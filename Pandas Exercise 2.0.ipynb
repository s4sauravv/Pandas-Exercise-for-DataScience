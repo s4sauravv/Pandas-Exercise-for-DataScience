{
 "cells": [
  {
   "cell_type": "markdown",
   "id": "d3770435",
   "metadata": {},
   "source": [
    "# Ex 1: How to import pandas and check the version?\n",
    "Q: As a warm up, we will import pandas and print it’s version"
   ]
  },
  {
   "cell_type": "code",
   "execution_count": 3,
   "id": "f7157dee",
   "metadata": {},
   "outputs": [],
   "source": [
    "import pandas as pd\n",
    "import numpy as np\n",
    "import warnings\n",
    "warnings.filterwarnings('ignore')"
   ]
  },
  {
   "cell_type": "code",
   "execution_count": 4,
   "id": "c0e4eeed",
   "metadata": {},
   "outputs": [
    {
     "name": "stdout",
     "output_type": "stream",
     "text": [
      "1.4.2\n"
     ]
    }
   ],
   "source": [
    "print(pd.__version__)"
   ]
  },
  {
   "cell_type": "markdown",
   "id": "181845ef",
   "metadata": {},
   "source": [
    "# Ex 2: How to create a series from a list, numpy array and dict?\n",
    "Q: Create a pandas series from each of the items below: a list, numpy and a dictionary and print the first 5 elements."
   ]
  },
  {
   "cell_type": "code",
   "execution_count": 9,
   "id": "75611001",
   "metadata": {},
   "outputs": [],
   "source": [
    "mylist=list('abcdefghijklmnopqrstuvwxyz')\n",
    "my_arr=np.arange(25)\n",
    "my_dict=dict(zip(mylist,my_arr))"
   ]
  },
  {
   "cell_type": "code",
   "execution_count": 15,
   "id": "8715371e",
   "metadata": {},
   "outputs": [
    {
     "data": {
      "text/plain": [
       "0    a\n",
       "1    b\n",
       "2    c\n",
       "3    d\n",
       "4    e\n",
       "dtype: object"
      ]
     },
     "execution_count": 15,
     "metadata": {},
     "output_type": "execute_result"
    }
   ],
   "source": [
    "my_list=pd.Series(mylist)\n",
    "my_list.head()"
   ]
  },
  {
   "cell_type": "code",
   "execution_count": 17,
   "id": "928b4710",
   "metadata": {},
   "outputs": [
    {
     "data": {
      "text/plain": [
       "0    0\n",
       "1    1\n",
       "2    2\n",
       "3    3\n",
       "4    4\n",
       "dtype: int32"
      ]
     },
     "execution_count": 17,
     "metadata": {},
     "output_type": "execute_result"
    }
   ],
   "source": [
    "my_arr=pd.Series(my_arr)\n",
    "my_arr.head()"
   ]
  },
  {
   "cell_type": "code",
   "execution_count": 18,
   "id": "8bd2ce06",
   "metadata": {},
   "outputs": [
    {
     "data": {
      "text/plain": [
       "a    0\n",
       "b    1\n",
       "c    2\n",
       "d    3\n",
       "e    4\n",
       "dtype: int32"
      ]
     },
     "execution_count": 18,
     "metadata": {},
     "output_type": "execute_result"
    }
   ],
   "source": [
    "my_dict=pd.Series(my_dict)\n",
    "my_dict.head()"
   ]
  },
  {
   "cell_type": "markdown",
   "id": "a777e07f",
   "metadata": {},
   "source": [
    "# Ex 3: How to convert the index of a series into a column of a dataframe?\n",
    "Q: Convert the series ser into a dataframe with its index as another column on the dataframe."
   ]
  },
  {
   "cell_type": "code",
   "execution_count": 34,
   "id": "813b3490",
   "metadata": {},
   "outputs": [
    {
     "data": {
      "text/plain": [
       "a    0\n",
       "b    1\n",
       "c    2\n",
       "d    3\n",
       "e    4\n",
       "dtype: int32"
      ]
     },
     "execution_count": 34,
     "metadata": {},
     "output_type": "execute_result"
    }
   ],
   "source": [
    "my_list=list('abcdefghijklmnopqrstuvwxyz')\n",
    "my_array=np.arange(26)\n",
    "my_dict=dict(zip(my_list,my_array))\n",
    "ser=pd.Series(my_dict)\n",
    "ser.head()"
   ]
  },
  {
   "cell_type": "code",
   "execution_count": 35,
   "id": "8c297a87",
   "metadata": {},
   "outputs": [
    {
     "data": {
      "text/html": [
       "<div>\n",
       "<style scoped>\n",
       "    .dataframe tbody tr th:only-of-type {\n",
       "        vertical-align: middle;\n",
       "    }\n",
       "\n",
       "    .dataframe tbody tr th {\n",
       "        vertical-align: top;\n",
       "    }\n",
       "\n",
       "    .dataframe thead th {\n",
       "        text-align: right;\n",
       "    }\n",
       "</style>\n",
       "<table border=\"1\" class=\"dataframe\">\n",
       "  <thead>\n",
       "    <tr style=\"text-align: right;\">\n",
       "      <th></th>\n",
       "      <th>index</th>\n",
       "      <th>0</th>\n",
       "    </tr>\n",
       "  </thead>\n",
       "  <tbody>\n",
       "    <tr>\n",
       "      <th>0</th>\n",
       "      <td>a</td>\n",
       "      <td>0</td>\n",
       "    </tr>\n",
       "    <tr>\n",
       "      <th>1</th>\n",
       "      <td>b</td>\n",
       "      <td>1</td>\n",
       "    </tr>\n",
       "    <tr>\n",
       "      <th>2</th>\n",
       "      <td>c</td>\n",
       "      <td>2</td>\n",
       "    </tr>\n",
       "    <tr>\n",
       "      <th>3</th>\n",
       "      <td>d</td>\n",
       "      <td>3</td>\n",
       "    </tr>\n",
       "    <tr>\n",
       "      <th>4</th>\n",
       "      <td>e</td>\n",
       "      <td>4</td>\n",
       "    </tr>\n",
       "  </tbody>\n",
       "</table>\n",
       "</div>"
      ],
      "text/plain": [
       "  index  0\n",
       "0     a  0\n",
       "1     b  1\n",
       "2     c  2\n",
       "3     d  3\n",
       "4     e  4"
      ]
     },
     "execution_count": 35,
     "metadata": {},
     "output_type": "execute_result"
    }
   ],
   "source": [
    "ser.to_frame().reset_index().head()"
   ]
  },
  {
   "cell_type": "markdown",
   "id": "a748d546",
   "metadata": {},
   "source": [
    "# Ex 4: How to combine many series to form a dataframe?\n",
    "Q: Combine ser1 and ser2 to form a dataframe."
   ]
  },
  {
   "cell_type": "code",
   "execution_count": 37,
   "id": "3e577620",
   "metadata": {},
   "outputs": [],
   "source": [
    "ser1=pd.Series(list('abcdefghijklmnopqrstuvqxyz'),name='ser1')\n",
    "ser2=pd.Series(np.arange(25),name='ser2')"
   ]
  },
  {
   "cell_type": "code",
   "execution_count": 50,
   "id": "ff6dcd56",
   "metadata": {},
   "outputs": [],
   "source": [
    "ser3=pd.concat((ser1,ser2),axis=1)"
   ]
  },
  {
   "cell_type": "code",
   "execution_count": 51,
   "id": "0381c295",
   "metadata": {},
   "outputs": [
    {
     "data": {
      "text/html": [
       "<div>\n",
       "<style scoped>\n",
       "    .dataframe tbody tr th:only-of-type {\n",
       "        vertical-align: middle;\n",
       "    }\n",
       "\n",
       "    .dataframe tbody tr th {\n",
       "        vertical-align: top;\n",
       "    }\n",
       "\n",
       "    .dataframe thead th {\n",
       "        text-align: right;\n",
       "    }\n",
       "</style>\n",
       "<table border=\"1\" class=\"dataframe\">\n",
       "  <thead>\n",
       "    <tr style=\"text-align: right;\">\n",
       "      <th></th>\n",
       "      <th>ser1</th>\n",
       "      <th>ser2</th>\n",
       "    </tr>\n",
       "  </thead>\n",
       "  <tbody>\n",
       "    <tr>\n",
       "      <th>0</th>\n",
       "      <td>a</td>\n",
       "      <td>0.0</td>\n",
       "    </tr>\n",
       "    <tr>\n",
       "      <th>1</th>\n",
       "      <td>b</td>\n",
       "      <td>1.0</td>\n",
       "    </tr>\n",
       "    <tr>\n",
       "      <th>2</th>\n",
       "      <td>c</td>\n",
       "      <td>2.0</td>\n",
       "    </tr>\n",
       "    <tr>\n",
       "      <th>3</th>\n",
       "      <td>d</td>\n",
       "      <td>3.0</td>\n",
       "    </tr>\n",
       "    <tr>\n",
       "      <th>4</th>\n",
       "      <td>e</td>\n",
       "      <td>4.0</td>\n",
       "    </tr>\n",
       "  </tbody>\n",
       "</table>\n",
       "</div>"
      ],
      "text/plain": [
       "  ser1  ser2\n",
       "0    a   0.0\n",
       "1    b   1.0\n",
       "2    c   2.0\n",
       "3    d   3.0\n",
       "4    e   4.0"
      ]
     },
     "execution_count": 51,
     "metadata": {},
     "output_type": "execute_result"
    }
   ],
   "source": [
    "ser3.head()"
   ]
  },
  {
   "cell_type": "code",
   "execution_count": 52,
   "id": "bb38a1ab",
   "metadata": {},
   "outputs": [],
   "source": [
    "#2nd Method"
   ]
  },
  {
   "cell_type": "code",
   "execution_count": 60,
   "id": "be8a5c32",
   "metadata": {},
   "outputs": [
    {
     "data": {
      "text/html": [
       "<div>\n",
       "<style scoped>\n",
       "    .dataframe tbody tr th:only-of-type {\n",
       "        vertical-align: middle;\n",
       "    }\n",
       "\n",
       "    .dataframe tbody tr th {\n",
       "        vertical-align: top;\n",
       "    }\n",
       "\n",
       "    .dataframe thead th {\n",
       "        text-align: right;\n",
       "    }\n",
       "</style>\n",
       "<table border=\"1\" class=\"dataframe\">\n",
       "  <thead>\n",
       "    <tr style=\"text-align: right;\">\n",
       "      <th></th>\n",
       "      <th>ser1</th>\n",
       "      <th>ser2</th>\n",
       "    </tr>\n",
       "  </thead>\n",
       "  <tbody>\n",
       "    <tr>\n",
       "      <th>0</th>\n",
       "      <td>a</td>\n",
       "      <td>0.0</td>\n",
       "    </tr>\n",
       "    <tr>\n",
       "      <th>1</th>\n",
       "      <td>b</td>\n",
       "      <td>1.0</td>\n",
       "    </tr>\n",
       "    <tr>\n",
       "      <th>2</th>\n",
       "      <td>c</td>\n",
       "      <td>2.0</td>\n",
       "    </tr>\n",
       "    <tr>\n",
       "      <th>3</th>\n",
       "      <td>d</td>\n",
       "      <td>3.0</td>\n",
       "    </tr>\n",
       "    <tr>\n",
       "      <th>4</th>\n",
       "      <td>e</td>\n",
       "      <td>4.0</td>\n",
       "    </tr>\n",
       "  </tbody>\n",
       "</table>\n",
       "</div>"
      ],
      "text/plain": [
       "  ser1  ser2\n",
       "0    a   0.0\n",
       "1    b   1.0\n",
       "2    c   2.0\n",
       "3    d   3.0\n",
       "4    e   4.0"
      ]
     },
     "execution_count": 60,
     "metadata": {},
     "output_type": "execute_result"
    }
   ],
   "source": [
    "pd.DataFrame({'ser1':ser1,'ser2':ser2}).head()"
   ]
  },
  {
   "cell_type": "markdown",
   "id": "893375d0",
   "metadata": {},
   "source": [
    "# Ex 5: How to assign name to the series’ index?\n",
    "Q: Give a name to the series ser calling it ‘alphabets’."
   ]
  },
  {
   "cell_type": "code",
   "execution_count": 65,
   "id": "0f6b5518",
   "metadata": {},
   "outputs": [
    {
     "data": {
      "text/plain": [
       "0    a\n",
       "1    b\n",
       "2    c\n",
       "3    d\n",
       "4    e\n",
       "dtype: object"
      ]
     },
     "execution_count": 65,
     "metadata": {},
     "output_type": "execute_result"
    }
   ],
   "source": [
    "ser=pd.Series(list('abcdefghijklmnopqrtuvwxyz'))\n",
    "ser.head()"
   ]
  },
  {
   "cell_type": "code",
   "execution_count": 67,
   "id": "202d6627",
   "metadata": {},
   "outputs": [],
   "source": [
    "ser.name='abplhabets'"
   ]
  },
  {
   "cell_type": "code",
   "execution_count": 69,
   "id": "4f116a56",
   "metadata": {},
   "outputs": [
    {
     "data": {
      "text/plain": [
       "0    a\n",
       "1    b\n",
       "2    c\n",
       "3    d\n",
       "4    e\n",
       "Name: abplhabets, dtype: object"
      ]
     },
     "execution_count": 69,
     "metadata": {},
     "output_type": "execute_result"
    }
   ],
   "source": [
    "ser.head()"
   ]
  },
  {
   "cell_type": "markdown",
   "id": "cbb0b265",
   "metadata": {},
   "source": [
    "# Ex 6: How to get the items of series A not present in series B?\n",
    "Q: From ser1 remove items present in ser2."
   ]
  },
  {
   "cell_type": "code",
   "execution_count": 70,
   "id": "de316f5f",
   "metadata": {},
   "outputs": [],
   "source": [
    "ser1 = pd.Series([1, 2, 3, 4, 5])\n",
    "ser2 = pd.Series([4, 5, 6, 7, 8])"
   ]
  },
  {
   "cell_type": "code",
   "execution_count": 77,
   "id": "50450db7",
   "metadata": {},
   "outputs": [
    {
     "data": {
      "text/plain": [
       "0    1\n",
       "1    2\n",
       "2    3\n",
       "dtype: int64"
      ]
     },
     "execution_count": 77,
     "metadata": {},
     "output_type": "execute_result"
    }
   ],
   "source": [
    "ser1[~ser1.isin(ser2)]"
   ]
  },
  {
   "cell_type": "markdown",
   "id": "dc5e2dc7",
   "metadata": {},
   "source": [
    "# Ex 7: How to get the items not common to both series A and series B?\n",
    "Q: Get all items of ser1 and ser2 not common to both."
   ]
  },
  {
   "cell_type": "code",
   "execution_count": 79,
   "id": "b6b359fe",
   "metadata": {},
   "outputs": [],
   "source": [
    "ser1 = pd.Series([1, 2, 3, 4, 5])\n",
    "ser2 = pd.Series([4, 5, 6, 7, 8])"
   ]
  },
  {
   "cell_type": "code",
   "execution_count": 81,
   "id": "828c63e2",
   "metadata": {},
   "outputs": [
    {
     "data": {
      "text/plain": [
       "0    1\n",
       "1    2\n",
       "2    3\n",
       "dtype: int64"
      ]
     },
     "execution_count": 81,
     "metadata": {},
     "output_type": "execute_result"
    }
   ],
   "source": [
    "unique1=ser1[~ser1.isin(ser2)]\n",
    "unique1"
   ]
  },
  {
   "cell_type": "code",
   "execution_count": 82,
   "id": "61dce5aa",
   "metadata": {},
   "outputs": [
    {
     "data": {
      "text/plain": [
       "2    6\n",
       "3    7\n",
       "4    8\n",
       "dtype: int64"
      ]
     },
     "execution_count": 82,
     "metadata": {},
     "output_type": "execute_result"
    }
   ],
   "source": [
    "unique2=ser2[~ser2.isin(ser1)]\n",
    "unique2"
   ]
  },
  {
   "cell_type": "code",
   "execution_count": 85,
   "id": "44fa16c7",
   "metadata": {},
   "outputs": [
    {
     "data": {
      "text/plain": [
       "0    1\n",
       "1    2\n",
       "2    3\n",
       "3    6\n",
       "4    7\n",
       "5    8\n",
       "dtype: int64"
      ]
     },
     "execution_count": 85,
     "metadata": {},
     "output_type": "execute_result"
    }
   ],
   "source": [
    "uniques=pd.Series(np.union1d(unique1,unique2))\n",
    "uniques"
   ]
  },
  {
   "cell_type": "markdown",
   "id": "cede5fe4",
   "metadata": {},
   "source": [
    "# Ex 8: How to get the minimum, 25th percentile, median, 75th, and max of a numeric series?\n",
    "Q: Compute the minimum, 25th percentile, median, 75th, and maximum of ser."
   ]
  },
  {
   "cell_type": "code",
   "execution_count": 96,
   "id": "c70e84fd",
   "metadata": {},
   "outputs": [
    {
     "data": {
      "text/plain": [
       "0    12.663139\n",
       "1     4.594816\n",
       "2    12.829877\n",
       "3    12.265178\n",
       "4     5.492681\n",
       "dtype: float64"
      ]
     },
     "execution_count": 96,
     "metadata": {},
     "output_type": "execute_result"
    }
   ],
   "source": [
    "ser=pd.Series(np.random.normal(10,5,25))\n",
    "ser.head()"
   ]
  },
  {
   "cell_type": "code",
   "execution_count": 98,
   "id": "027a98e9",
   "metadata": {},
   "outputs": [
    {
     "data": {
      "text/plain": [
       "-1.125797035215614"
      ]
     },
     "execution_count": 98,
     "metadata": {},
     "output_type": "execute_result"
    }
   ],
   "source": [
    "ser.min()"
   ]
  },
  {
   "cell_type": "code",
   "execution_count": 99,
   "id": "29422a75",
   "metadata": {},
   "outputs": [
    {
     "data": {
      "text/plain": [
       "11.828958638377129"
      ]
     },
     "execution_count": 99,
     "metadata": {},
     "output_type": "execute_result"
    }
   ],
   "source": [
    "ser.median()"
   ]
  },
  {
   "cell_type": "code",
   "execution_count": 100,
   "id": "ee561f96",
   "metadata": {},
   "outputs": [
    {
     "data": {
      "text/plain": [
       "11.828958638377129"
      ]
     },
     "execution_count": 100,
     "metadata": {},
     "output_type": "execute_result"
    }
   ],
   "source": [
    "ser.quantile()"
   ]
  },
  {
   "cell_type": "code",
   "execution_count": 101,
   "id": "5ad58d80",
   "metadata": {},
   "outputs": [
    {
     "data": {
      "text/plain": [
       "24.86390601139366"
      ]
     },
     "execution_count": 101,
     "metadata": {},
     "output_type": "execute_result"
    }
   ],
   "source": [
    "ser.max()"
   ]
  },
  {
   "cell_type": "code",
   "execution_count": 105,
   "id": "554d4c18",
   "metadata": {},
   "outputs": [
    {
     "data": {
      "text/plain": [
       "13.907216566220363"
      ]
     },
     "execution_count": 105,
     "metadata": {},
     "output_type": "execute_result"
    }
   ],
   "source": [
    "ser.quantile(.75)"
   ]
  },
  {
   "cell_type": "markdown",
   "id": "577a2ba9",
   "metadata": {},
   "source": [
    "# Ex 9: How to get frequency counts of unique items of a series?\n",
    "Q: Calculate the frequency counts of each unique value ser."
   ]
  },
  {
   "cell_type": "code",
   "execution_count": 114,
   "id": "866b1a15",
   "metadata": {},
   "outputs": [],
   "source": [
    "ser=pd.Series(np.take(list('abcdefgh'),np.random.randint(8,size=28)))\n"
   ]
  },
  {
   "cell_type": "code",
   "execution_count": 116,
   "id": "254c33a9",
   "metadata": {},
   "outputs": [
    {
     "data": {
      "text/plain": [
       "0    a\n",
       "1    c\n",
       "2    f\n",
       "3    a\n",
       "4    h\n",
       "dtype: object"
      ]
     },
     "execution_count": 116,
     "metadata": {},
     "output_type": "execute_result"
    }
   ],
   "source": [
    "ser.head()"
   ]
  },
  {
   "cell_type": "code",
   "execution_count": 118,
   "id": "130cb80e",
   "metadata": {},
   "outputs": [
    {
     "data": {
      "text/plain": [
       "h    9\n",
       "c    5\n",
       "a    4\n",
       "f    4\n",
       "b    3\n",
       "d    2\n",
       "e    1\n",
       "dtype: int64"
      ]
     },
     "execution_count": 118,
     "metadata": {},
     "output_type": "execute_result"
    }
   ],
   "source": [
    "ser.value_counts()"
   ]
  },
  {
   "cell_type": "markdown",
   "id": "5728681b",
   "metadata": {},
   "source": [
    "# Ex 10: How to keep only the top 2 most frequent values as it is and replace everything else as ‘Other’?\n",
    "Q: From ser, keep the top 2 most frequent items as it is and replace everything else as ‘Other’."
   ]
  },
  {
   "cell_type": "code",
   "execution_count": 128,
   "id": "814bd4f3",
   "metadata": {},
   "outputs": [],
   "source": [
    "np.random.RandomState(100)\n",
    "ser = pd.Series(np.random.randint(1, 5, [12]))"
   ]
  },
  {
   "cell_type": "code",
   "execution_count": 129,
   "id": "1e9c006e",
   "metadata": {},
   "outputs": [
    {
     "data": {
      "text/plain": [
       "0     1\n",
       "1     3\n",
       "2     2\n",
       "3     3\n",
       "4     3\n",
       "5     3\n",
       "6     3\n",
       "7     4\n",
       "8     4\n",
       "9     1\n",
       "10    3\n",
       "11    1\n",
       "dtype: int32"
      ]
     },
     "execution_count": 129,
     "metadata": {},
     "output_type": "execute_result"
    }
   ],
   "source": [
    "ser"
   ]
  },
  {
   "cell_type": "code",
   "execution_count": 130,
   "id": "531ed4e7",
   "metadata": {},
   "outputs": [],
   "source": [
    "most_freq=ser.value_counts()[:2].index"
   ]
  },
  {
   "cell_type": "code",
   "execution_count": 132,
   "id": "fa17ae49",
   "metadata": {},
   "outputs": [],
   "source": [
    "ser[~ser.isin(most_freq)]='other'"
   ]
  },
  {
   "cell_type": "code",
   "execution_count": 133,
   "id": "0d66afc1",
   "metadata": {},
   "outputs": [
    {
     "data": {
      "text/plain": [
       "0         1\n",
       "1         3\n",
       "2     other\n",
       "3         3\n",
       "4         3\n",
       "5         3\n",
       "6         3\n",
       "7     other\n",
       "8     other\n",
       "9         1\n",
       "10        3\n",
       "11        1\n",
       "dtype: object"
      ]
     },
     "execution_count": 133,
     "metadata": {},
     "output_type": "execute_result"
    }
   ],
   "source": [
    "ser"
   ]
  },
  {
   "cell_type": "markdown",
   "id": "0b7d6e6d",
   "metadata": {},
   "source": [
    "# Ex 11: How to bin a numeric series to 10 groups of equal size?\n",
    "Q: Bin the series ser into 10 equal deciles and replace the values with the bin name."
   ]
  },
  {
   "cell_type": "code",
   "execution_count": 150,
   "id": "7b686a9d",
   "metadata": {},
   "outputs": [],
   "source": [
    "ser = pd.Series(np.random.randint(1,21,20))"
   ]
  },
  {
   "cell_type": "code",
   "execution_count": 156,
   "id": "dfa6ecad",
   "metadata": {},
   "outputs": [
    {
     "data": {
      "text/plain": [
       "0     13\n",
       "1      6\n",
       "2     13\n",
       "3      7\n",
       "4     13\n",
       "5     15\n",
       "6     18\n",
       "7     19\n",
       "8     13\n",
       "9     16\n",
       "10    12\n",
       "11    17\n",
       "12    15\n",
       "13    14\n",
       "14     1\n",
       "15     9\n",
       "16     5\n",
       "17     4\n",
       "18    13\n",
       "19    19\n",
       "dtype: int32"
      ]
     },
     "execution_count": 156,
     "metadata": {},
     "output_type": "execute_result"
    }
   ],
   "source": [
    "ser"
   ]
  },
  {
   "cell_type": "code",
   "execution_count": 155,
   "id": "8d815d2d",
   "metadata": {},
   "outputs": [
    {
     "data": {
      "text/plain": [
       "0      7th\n",
       "1      3rd\n",
       "2      7th\n",
       "3      4th\n",
       "4      7th\n",
       "5      8th\n",
       "6     10th\n",
       "7     10th\n",
       "8      7th\n",
       "9      9th\n",
       "10     7th\n",
       "11     9th\n",
       "12     8th\n",
       "13     8th\n",
       "14     1st\n",
       "15     5th\n",
       "16     3rd\n",
       "17     2nd\n",
       "18     7th\n",
       "19    10th\n",
       "dtype: category\n",
       "Categories (10, object): ['1st' < '2nd' < '3rd' < '4th' ... '7th' < '8th' < '9th' < '10th']"
      ]
     },
     "execution_count": 155,
     "metadata": {},
     "output_type": "execute_result"
    }
   ],
   "source": [
    "pd.cut(ser,bins=10,labels=['1st','2nd','3rd','4th','5th','6th','7th','8th','9th','10th'])"
   ]
  },
  {
   "cell_type": "code",
   "execution_count": null,
   "id": "17b11757",
   "metadata": {},
   "outputs": [],
   "source": []
  },
  {
   "cell_type": "code",
   "execution_count": null,
   "id": "41cc32e0",
   "metadata": {},
   "outputs": [],
   "source": []
  },
  {
   "cell_type": "markdown",
   "id": "38515d01",
   "metadata": {},
   "source": [
    "# Ex 12: How to convert a numpy array to a dataframe of given shape? (L1)\n",
    "Q: Reshape the series ser into a dataframe with 7 rows and 5 columns"
   ]
  },
  {
   "cell_type": "code",
   "execution_count": 139,
   "id": "f58848a3",
   "metadata": {},
   "outputs": [],
   "source": [
    "a=pd.Series(np.arange(35))"
   ]
  },
  {
   "cell_type": "code",
   "execution_count": 141,
   "id": "7025e16d",
   "metadata": {},
   "outputs": [
    {
     "data": {
      "text/plain": [
       "0    0\n",
       "1    1\n",
       "2    2\n",
       "3    3\n",
       "4    4\n",
       "dtype: int32"
      ]
     },
     "execution_count": 141,
     "metadata": {},
     "output_type": "execute_result"
    }
   ],
   "source": [
    "a.head()"
   ]
  },
  {
   "cell_type": "code",
   "execution_count": 142,
   "id": "d1ec6aca",
   "metadata": {},
   "outputs": [
    {
     "data": {
      "text/plain": [
       "array([[ 0,  1,  2,  3,  4],\n",
       "       [ 5,  6,  7,  8,  9],\n",
       "       [10, 11, 12, 13, 14],\n",
       "       [15, 16, 17, 18, 19],\n",
       "       [20, 21, 22, 23, 24],\n",
       "       [25, 26, 27, 28, 29],\n",
       "       [30, 31, 32, 33, 34]])"
      ]
     },
     "execution_count": 142,
     "metadata": {},
     "output_type": "execute_result"
    }
   ],
   "source": [
    "a.values.reshape(7,5)"
   ]
  },
  {
   "cell_type": "markdown",
   "id": "c082462c",
   "metadata": {},
   "source": [
    "# Ex 13: How to find the positions of numbers that are multiples of 3 from a series?\n",
    "Q: Find the positions of numbers that are multiples of 3 from ser."
   ]
  },
  {
   "cell_type": "code",
   "execution_count": 157,
   "id": "43e4ac11",
   "metadata": {},
   "outputs": [],
   "source": [
    "ser=pd.Series(np.random.randint(1,10,7))"
   ]
  },
  {
   "cell_type": "code",
   "execution_count": 158,
   "id": "f0557b9e",
   "metadata": {},
   "outputs": [
    {
     "data": {
      "text/plain": [
       "0    5\n",
       "1    1\n",
       "2    6\n",
       "3    9\n",
       "4    8\n",
       "5    4\n",
       "6    1\n",
       "dtype: int32"
      ]
     },
     "execution_count": 158,
     "metadata": {},
     "output_type": "execute_result"
    }
   ],
   "source": [
    "ser"
   ]
  },
  {
   "cell_type": "code",
   "execution_count": 159,
   "id": "b53bda84",
   "metadata": {},
   "outputs": [
    {
     "data": {
      "text/plain": [
       "0    2\n",
       "1    3\n",
       "dtype: int64"
      ]
     },
     "execution_count": 159,
     "metadata": {},
     "output_type": "execute_result"
    }
   ],
   "source": [
    "pd.Series(ser[ser%3==0].index)"
   ]
  },
  {
   "cell_type": "markdown",
   "id": "4436b924",
   "metadata": {},
   "source": [
    "# Ex 14: How to extract items at given positions from a series\n",
    "Q: From ser, extract the items at positions in list pos."
   ]
  },
  {
   "cell_type": "code",
   "execution_count": 162,
   "id": "a70a6cf8",
   "metadata": {},
   "outputs": [],
   "source": [
    "ser=pd.Series(list('abcdefghijklmnopqrstuvwxyz'))\n",
    "pos=[0,4,8,14,20]"
   ]
  },
  {
   "cell_type": "code",
   "execution_count": 163,
   "id": "932c6f49",
   "metadata": {},
   "outputs": [
    {
     "data": {
      "text/plain": [
       "0     a\n",
       "4     e\n",
       "8     i\n",
       "14    o\n",
       "20    u\n",
       "dtype: object"
      ]
     },
     "execution_count": 163,
     "metadata": {},
     "output_type": "execute_result"
    }
   ],
   "source": [
    "ser.take(pos)"
   ]
  },
  {
   "cell_type": "code",
   "execution_count": 167,
   "id": "9a0435a3",
   "metadata": {},
   "outputs": [],
   "source": [
    "#2nd Method"
   ]
  },
  {
   "cell_type": "code",
   "execution_count": 166,
   "id": "91fcbd31",
   "metadata": {},
   "outputs": [
    {
     "data": {
      "text/plain": [
       "0     a\n",
       "4     e\n",
       "8     i\n",
       "14    o\n",
       "20    u\n",
       "dtype: object"
      ]
     },
     "execution_count": 166,
     "metadata": {},
     "output_type": "execute_result"
    }
   ],
   "source": [
    "pd.Series(ser.iloc[pos])"
   ]
  },
  {
   "cell_type": "markdown",
   "id": "1cedec2e",
   "metadata": {},
   "source": [
    "# Ex 15: How to stack two series vertically?\n",
    "\n",
    "Q: Stack ser1 and ser2 vertically to form a dataframe."
   ]
  },
  {
   "cell_type": "code",
   "execution_count": 170,
   "id": "6e2edb1b",
   "metadata": {},
   "outputs": [],
   "source": [
    "ser1 = pd.Series(range(5))\n",
    "ser2 = pd.Series(list('abcde'))"
   ]
  },
  {
   "cell_type": "code",
   "execution_count": 171,
   "id": "d742420b",
   "metadata": {},
   "outputs": [
    {
     "data": {
      "text/plain": [
       "0    0\n",
       "1    1\n",
       "2    2\n",
       "3    3\n",
       "4    4\n",
       "dtype: int64"
      ]
     },
     "execution_count": 171,
     "metadata": {},
     "output_type": "execute_result"
    }
   ],
   "source": [
    "ser1"
   ]
  },
  {
   "cell_type": "code",
   "execution_count": 172,
   "id": "699c5007",
   "metadata": {},
   "outputs": [
    {
     "data": {
      "text/plain": [
       "0    a\n",
       "1    b\n",
       "2    c\n",
       "3    d\n",
       "4    e\n",
       "dtype: object"
      ]
     },
     "execution_count": 172,
     "metadata": {},
     "output_type": "execute_result"
    }
   ],
   "source": [
    "ser2"
   ]
  },
  {
   "cell_type": "code",
   "execution_count": 177,
   "id": "ecb65240",
   "metadata": {},
   "outputs": [],
   "source": [
    "s=pd.concat([ser1,ser2])"
   ]
  },
  {
   "cell_type": "code",
   "execution_count": 178,
   "id": "d961a350",
   "metadata": {},
   "outputs": [
    {
     "data": {
      "text/plain": [
       "0    0\n",
       "1    1\n",
       "2    2\n",
       "3    3\n",
       "4    4\n",
       "0    a\n",
       "1    b\n",
       "2    c\n",
       "3    d\n",
       "4    e\n",
       "dtype: object"
      ]
     },
     "execution_count": 178,
     "metadata": {},
     "output_type": "execute_result"
    }
   ],
   "source": [
    "s"
   ]
  },
  {
   "cell_type": "markdown",
   "id": "39b0b895",
   "metadata": {},
   "source": [
    "# Ex 16: How to get the positions of items of series A in another series B?\n",
    "Q: Get the positions of items of ser2 in ser1 as a list"
   ]
  },
  {
   "cell_type": "code",
   "execution_count": 179,
   "id": "eb00ffdc",
   "metadata": {},
   "outputs": [],
   "source": [
    "ser1 = pd.Series([10, 9, 6, 5, 3, 1, 12, 8, 13])\n",
    "ser2 = pd.Series([1, 3, 10, 13])"
   ]
  },
  {
   "cell_type": "code",
   "execution_count": 187,
   "id": "8d0fbe65",
   "metadata": {},
   "outputs": [
    {
     "data": {
      "text/plain": [
       "[0, 4, 5, 8]"
      ]
     },
     "execution_count": 187,
     "metadata": {},
     "output_type": "execute_result"
    }
   ],
   "source": [
    "list(ser1[ser1.isin(ser2)].index)"
   ]
  },
  {
   "cell_type": "markdown",
   "id": "effa5556",
   "metadata": {},
   "source": [
    "# Ex 17: How to compute the mean squared error on series A and predicted series B?\n",
    "Q: Compute the mean squared error of truth and pred series."
   ]
  },
  {
   "cell_type": "code",
   "execution_count": 188,
   "id": "9b0fccbf",
   "metadata": {},
   "outputs": [],
   "source": [
    "truth = pd.Series(range(10))\n",
    "pred = pd.Series(range(10)) + np.random.random(10)"
   ]
  },
  {
   "cell_type": "code",
   "execution_count": null,
   "id": "414f3a9d",
   "metadata": {},
   "outputs": [],
   "source": []
  },
  {
   "cell_type": "markdown",
   "id": "cd01c90b",
   "metadata": {},
   "source": [
    "# Ex 18: How to convert the first character of each element in a series to uppercase?\n",
    "Q: Change the first character of each word to upper case in each word of ser."
   ]
  },
  {
   "cell_type": "code",
   "execution_count": 192,
   "id": "cc6d15d0",
   "metadata": {},
   "outputs": [],
   "source": [
    "ser = pd.Series(['how', 'to', 'kick', 'ass?'])"
   ]
  },
  {
   "cell_type": "code",
   "execution_count": 193,
   "id": "49e88fcc",
   "metadata": {},
   "outputs": [
    {
     "data": {
      "text/plain": [
       "0     how\n",
       "1      to\n",
       "2    kick\n",
       "3    ass?\n",
       "dtype: object"
      ]
     },
     "execution_count": 193,
     "metadata": {},
     "output_type": "execute_result"
    }
   ],
   "source": [
    "ser"
   ]
  },
  {
   "cell_type": "code",
   "execution_count": 201,
   "id": "6560a387",
   "metadata": {},
   "outputs": [
    {
     "data": {
      "text/plain": [
       "0     How\n",
       "1      To\n",
       "2    Kick\n",
       "3    Ass?\n",
       "dtype: object"
      ]
     },
     "execution_count": 201,
     "metadata": {},
     "output_type": "execute_result"
    }
   ],
   "source": [
    "ser.map(lambda x:x.title())"
   ]
  },
  {
   "cell_type": "code",
   "execution_count": 202,
   "id": "800d9de4",
   "metadata": {},
   "outputs": [],
   "source": [
    "#2nd Method is"
   ]
  },
  {
   "cell_type": "code",
   "execution_count": 204,
   "id": "89de1a35",
   "metadata": {},
   "outputs": [
    {
     "data": {
      "text/plain": [
       "0     How\n",
       "1      To\n",
       "2    Kick\n",
       "3    Ass?\n",
       "dtype: object"
      ]
     },
     "execution_count": 204,
     "metadata": {},
     "output_type": "execute_result"
    }
   ],
   "source": [
    "ser.str.capitalize()"
   ]
  },
  {
   "cell_type": "markdown",
   "id": "17c51d83",
   "metadata": {},
   "source": [
    "# Ex 19: How to calculate the number of characters in each word in a series?\n",
    "Q: Get the number of characters in each word in a series"
   ]
  },
  {
   "cell_type": "code",
   "execution_count": 205,
   "id": "8c4d7895",
   "metadata": {},
   "outputs": [],
   "source": [
    "ser = pd.Series(['how', 'to', 'kick', 'ass?'])"
   ]
  },
  {
   "cell_type": "code",
   "execution_count": 218,
   "id": "4d825242",
   "metadata": {},
   "outputs": [
    {
     "data": {
      "text/plain": [
       "0    3\n",
       "1    2\n",
       "2    4\n",
       "3    4\n",
       "dtype: int64"
      ]
     },
     "execution_count": 218,
     "metadata": {},
     "output_type": "execute_result"
    }
   ],
   "source": [
    "ser.map(lambda x:len(x))"
   ]
  },
  {
   "cell_type": "markdown",
   "id": "59cab2ce",
   "metadata": {},
   "source": [
    "# Ex 20: How to compute the difference of differences between consecutive numbers of a series?\n",
    "Q: Find the difference of differences between the consecutive numbers of ser."
   ]
  },
  {
   "cell_type": "code",
   "execution_count": 225,
   "id": "aa5f416c",
   "metadata": {},
   "outputs": [],
   "source": [
    "ser = pd.Series([1, 3, 6, 10, 15, 21, 27, 35])"
   ]
  },
  {
   "cell_type": "code",
   "execution_count": 228,
   "id": "f2bd2e75",
   "metadata": {},
   "outputs": [
    {
     "data": {
      "text/plain": [
       "[nan, 2.0, 3.0, 4.0, 5.0, 6.0, 6.0, 8.0]"
      ]
     },
     "execution_count": 228,
     "metadata": {},
     "output_type": "execute_result"
    }
   ],
   "source": [
    "ser.diff().tolist()"
   ]
  },
  {
   "cell_type": "code",
   "execution_count": 233,
   "id": "69a9b9bd",
   "metadata": {},
   "outputs": [
    {
     "data": {
      "text/plain": [
       "[nan, nan, 1.0, 1.0, 1.0, 1.0, 0.0, 2.0]"
      ]
     },
     "execution_count": 233,
     "metadata": {},
     "output_type": "execute_result"
    }
   ],
   "source": [
    "ser.diff().diff().tolist()"
   ]
  },
  {
   "cell_type": "markdown",
   "id": "1cad04ef",
   "metadata": {},
   "source": [
    "# Ex 21: How to convert a series of date-strings to a timeseries?\n",
    "Q: How to convert a series of date-strings to a timeseries?"
   ]
  },
  {
   "cell_type": "code",
   "execution_count": 234,
   "id": "acb9f643",
   "metadata": {},
   "outputs": [],
   "source": [
    "ser = pd.Series(['01 Jan 2010', '02-02-2011', '20120303', '2013/04/04', '2014-05-05', '2015-06-06T12:20'])"
   ]
  },
  {
   "cell_type": "code",
   "execution_count": 235,
   "id": "2b4a586f",
   "metadata": {},
   "outputs": [
    {
     "data": {
      "text/plain": [
       "0         01 Jan 2010\n",
       "1          02-02-2011\n",
       "2            20120303\n",
       "3          2013/04/04\n",
       "4          2014-05-05\n",
       "5    2015-06-06T12:20\n",
       "dtype: object"
      ]
     },
     "execution_count": 235,
     "metadata": {},
     "output_type": "execute_result"
    }
   ],
   "source": [
    "ser"
   ]
  },
  {
   "cell_type": "code",
   "execution_count": 241,
   "id": "d2d2faa7",
   "metadata": {},
   "outputs": [
    {
     "data": {
      "text/plain": [
       "0   2010-01-01 00:00:00\n",
       "1   2011-02-02 00:00:00\n",
       "2   2012-03-03 00:00:00\n",
       "3   2013-04-04 00:00:00\n",
       "4   2014-05-05 00:00:00\n",
       "5   2015-06-06 12:20:00\n",
       "dtype: datetime64[ns]"
      ]
     },
     "execution_count": 241,
     "metadata": {},
     "output_type": "execute_result"
    }
   ],
   "source": [
    "pd.to_datetime(ser)"
   ]
  },
  {
   "cell_type": "markdown",
   "id": "834c472e",
   "metadata": {},
   "source": [
    "# Ex 22: How to get the day of the month, week number, day of year and day of the week from a series of date strings?\n",
    "Q: Get the day of the month, week number, day of year and day of the week from ser."
   ]
  },
  {
   "cell_type": "code",
   "execution_count": 242,
   "id": "768aea46",
   "metadata": {},
   "outputs": [],
   "source": [
    "ser = pd.Series(['01 Jan 2010', '02-02-2011', '20120303', '2013/04/04', '2014-05-05', '2015-06-06T12:20'])"
   ]
  },
  {
   "cell_type": "code",
   "execution_count": 244,
   "id": "4cb59363",
   "metadata": {},
   "outputs": [],
   "source": [
    "ser_dt=pd.to_datetime(ser)"
   ]
  },
  {
   "cell_type": "code",
   "execution_count": 246,
   "id": "e8b93c0f",
   "metadata": {},
   "outputs": [],
   "source": [
    "date=list(ser_dt.dt.day)"
   ]
  },
  {
   "cell_type": "code",
   "execution_count": 247,
   "id": "f95f4baf",
   "metadata": {},
   "outputs": [
    {
     "data": {
      "text/plain": [
       "[1, 2, 3, 4, 5, 6]"
      ]
     },
     "execution_count": 247,
     "metadata": {},
     "output_type": "execute_result"
    }
   ],
   "source": [
    "date"
   ]
  },
  {
   "cell_type": "code",
   "execution_count": 248,
   "id": "040605c1",
   "metadata": {},
   "outputs": [],
   "source": [
    "month=list(ser_dt.dt.month)"
   ]
  },
  {
   "cell_type": "code",
   "execution_count": 249,
   "id": "871801f8",
   "metadata": {},
   "outputs": [
    {
     "data": {
      "text/plain": [
       "[1, 2, 3, 4, 5, 6]"
      ]
     },
     "execution_count": 249,
     "metadata": {},
     "output_type": "execute_result"
    }
   ],
   "source": [
    "month"
   ]
  },
  {
   "cell_type": "code",
   "execution_count": 259,
   "id": "fc0c2455",
   "metadata": {},
   "outputs": [],
   "source": [
    "week=list(ser_dt.dt.day_name())"
   ]
  },
  {
   "cell_type": "code",
   "execution_count": 260,
   "id": "537da71b",
   "metadata": {},
   "outputs": [
    {
     "data": {
      "text/plain": [
       "['Friday', 'Wednesday', 'Saturday', 'Thursday', 'Monday', 'Saturday']"
      ]
     },
     "execution_count": 260,
     "metadata": {},
     "output_type": "execute_result"
    }
   ],
   "source": [
    "week"
   ]
  },
  {
   "cell_type": "code",
   "execution_count": 255,
   "id": "8c8f0f8e",
   "metadata": {},
   "outputs": [],
   "source": [
    "year=list(ser_dt.dt.dayofyear)"
   ]
  },
  {
   "cell_type": "code",
   "execution_count": 256,
   "id": "e7a71372",
   "metadata": {},
   "outputs": [
    {
     "data": {
      "text/plain": [
       "[1, 33, 63, 94, 125, 157]"
      ]
     },
     "execution_count": 256,
     "metadata": {},
     "output_type": "execute_result"
    }
   ],
   "source": [
    "year"
   ]
  },
  {
   "cell_type": "markdown",
   "id": "532d85a2",
   "metadata": {},
   "source": [
    "# Ex 23: How to convert year-month string to dates corresponding to the 4th day of the month?\n",
    "Q: Change ser to dates that start with 4th of the respective months."
   ]
  },
  {
   "cell_type": "code",
   "execution_count": 273,
   "id": "889f1aae",
   "metadata": {},
   "outputs": [],
   "source": [
    "input = ['2010/01/04','2011/02/04','2012/03/04']"
   ]
  },
  {
   "cell_type": "code",
   "execution_count": 271,
   "id": "02552454",
   "metadata": {},
   "outputs": [],
   "source": []
  },
  {
   "cell_type": "code",
   "execution_count": 272,
   "id": "74922bfb",
   "metadata": {},
   "outputs": [],
   "source": [
    "format = '%Y/%m/%d'"
   ]
  },
  {
   "cell_type": "code",
   "execution_count": null,
   "id": "669264aa",
   "metadata": {},
   "outputs": [],
   "source": []
  },
  {
   "cell_type": "code",
   "execution_count": null,
   "id": "53055001",
   "metadata": {},
   "outputs": [],
   "source": []
  },
  {
   "cell_type": "code",
   "execution_count": 262,
   "id": "16209893",
   "metadata": {},
   "outputs": [],
   "source": [
    "# ouput look like\n",
    "# 0   2010-01-04\n",
    "# 1   2011-02-04\n",
    "# 2   2012-03-04\n",
    "# dtype: datetime64[ns]"
   ]
  },
  {
   "cell_type": "markdown",
   "id": "abc5088b",
   "metadata": {},
   "source": [
    "# Ex 24: How to filter words that contain atleast 2 vowels from a series?\n",
    "Q: From ser, extract words that contain atleast 2 vowels."
   ]
  },
  {
   "cell_type": "code",
   "execution_count": 263,
   "id": "0c3b6290",
   "metadata": {},
   "outputs": [],
   "source": [
    "ser = pd.Series(['Apple', 'Orange', 'Plan', 'Python', 'Money'])"
   ]
  },
  {
   "cell_type": "code",
   "execution_count": null,
   "id": "d749db2f",
   "metadata": {},
   "outputs": [],
   "source": []
  },
  {
   "cell_type": "code",
   "execution_count": null,
   "id": "a3c6ffb9",
   "metadata": {},
   "outputs": [],
   "source": []
  },
  {
   "cell_type": "code",
   "execution_count": null,
   "id": "82dbbbef",
   "metadata": {},
   "outputs": [],
   "source": []
  },
  {
   "cell_type": "code",
   "execution_count": null,
   "id": "02308b76",
   "metadata": {},
   "outputs": [],
   "source": []
  },
  {
   "cell_type": "markdown",
   "id": "7f6e8f63",
   "metadata": {},
   "source": [
    "# Ex 25: How to filter valid emails from a series?\n",
    "Extract the valid emails from the series emails. The regex pattern for valid emails is provided as"
   ]
  },
  {
   "cell_type": "code",
   "execution_count": 264,
   "id": "24a7c883",
   "metadata": {},
   "outputs": [],
   "source": [
    "emails = pd.Series(['buying books at amazom.com', 'rameses@egypt.com', 'matt@t.co', 'narendra@modi.com','dad@comp'])\n",
    "pattern ='[A-Za-z0-9._%+-]+@[A-Za-z0-9.-]+\\\\.[A-Za-z]{2,4}'"
   ]
  },
  {
   "cell_type": "code",
   "execution_count": 270,
   "id": "2925abaf",
   "metadata": {},
   "outputs": [
    {
     "data": {
      "text/plain": [
       "1    rameses@egypt.com\n",
       "2            matt@t.co\n",
       "3    narendra@modi.com\n",
       "dtype: object"
      ]
     },
     "execution_count": 270,
     "metadata": {},
     "output_type": "execute_result"
    }
   ],
   "source": [
    "emails[emails.str.match(pat=pattern)]"
   ]
  },
  {
   "cell_type": "code",
   "execution_count": null,
   "id": "f564091c",
   "metadata": {},
   "outputs": [],
   "source": []
  },
  {
   "cell_type": "code",
   "execution_count": null,
   "id": "8f043d88",
   "metadata": {},
   "outputs": [],
   "source": [
    "#Student of DataScience\n",
    "#Student of DataTrained-Saurav\n",
    "#Date-28-07-2022\n",
    "#Time-11:46"
   ]
  }
 ],
 "metadata": {
  "kernelspec": {
   "display_name": "Python 3 (ipykernel)",
   "language": "python",
   "name": "python3"
  },
  "language_info": {
   "codemirror_mode": {
    "name": "ipython",
    "version": 3
   },
   "file_extension": ".py",
   "mimetype": "text/x-python",
   "name": "python",
   "nbconvert_exporter": "python",
   "pygments_lexer": "ipython3",
   "version": "3.9.12"
  }
 },
 "nbformat": 4,
 "nbformat_minor": 5
}
