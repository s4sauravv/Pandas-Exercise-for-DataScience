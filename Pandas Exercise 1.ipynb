{
 "cells": [
  {
   "cell_type": "markdown",
   "id": "fd95795a",
   "metadata": {},
   "source": [
    "# Pandas Exercise\n"
   ]
  },
  {
   "cell_type": "markdown",
   "id": "73c8ca34",
   "metadata": {},
   "source": [
    "Importing Pandas and printing version number"
   ]
  },
  {
   "cell_type": "code",
   "execution_count": 221,
   "id": "60cceb7d",
   "metadata": {},
   "outputs": [],
   "source": [
    "import pandas as pd\n",
    "import numpy as np"
   ]
  },
  {
   "cell_type": "code",
   "execution_count": 4,
   "id": "33ac2b66",
   "metadata": {},
   "outputs": [
    {
     "name": "stdout",
     "output_type": "stream",
     "text": [
      "1.4.2\n"
     ]
    }
   ],
   "source": [
    "print(pd.__version__)"
   ]
  },
  {
   "cell_type": "markdown",
   "id": "7a449ce0",
   "metadata": {},
   "source": [
    "# EXERCISE 1 - List-to-Series Conversion\n",
    "Given a list, output the corresponding pandas series"
   ]
  },
  {
   "cell_type": "code",
   "execution_count": 5,
   "id": "3bdeb81b",
   "metadata": {},
   "outputs": [],
   "source": [
    "lst=['Saurav','Vikcy','Ramesh']"
   ]
  },
  {
   "cell_type": "code",
   "execution_count": 6,
   "id": "558743bd",
   "metadata": {},
   "outputs": [],
   "source": [
    "a=pd.Series(lst)"
   ]
  },
  {
   "cell_type": "code",
   "execution_count": 7,
   "id": "9c4da00c",
   "metadata": {},
   "outputs": [
    {
     "data": {
      "text/plain": [
       "0    Saurav\n",
       "1     Vikcy\n",
       "2    Ramesh\n",
       "dtype: object"
      ]
     },
     "execution_count": 7,
     "metadata": {},
     "output_type": "execute_result"
    }
   ],
   "source": [
    "a"
   ]
  },
  {
   "cell_type": "markdown",
   "id": "179f08cf",
   "metadata": {},
   "source": [
    "# EXERCISE 2 - List-to-Series Conversion with Custom Indexing\n",
    "Given a series, output the corresponding pandas series with odd indexes only"
   ]
  },
  {
   "cell_type": "code",
   "execution_count": 8,
   "id": "4245771c",
   "metadata": {},
   "outputs": [],
   "source": [
    "ser1=pd.Series(['Sauarv','Vikcy','Ramesh','Gupta','Amisha'],index=[1,3,5,7,9])"
   ]
  },
  {
   "cell_type": "code",
   "execution_count": 10,
   "id": "f41b8ca7",
   "metadata": {},
   "outputs": [
    {
     "data": {
      "text/plain": [
       "1    Sauarv\n",
       "3     Vikcy\n",
       "5    Ramesh\n",
       "7     Gupta\n",
       "9    Amisha\n",
       "dtype: object"
      ]
     },
     "execution_count": 10,
     "metadata": {},
     "output_type": "execute_result"
    }
   ],
   "source": [
    "ser1"
   ]
  },
  {
   "cell_type": "markdown",
   "id": "05d0fc73",
   "metadata": {},
   "source": [
    "# EXERCISE 3 - Date Series Generation\n",
    "Generate the series of dates from 1st May, 2021 to 12th May, 2021 (both inclusive)"
   ]
  },
  {
   "cell_type": "code",
   "execution_count": 11,
   "id": "990c191a",
   "metadata": {},
   "outputs": [],
   "source": [
    "date=pd.date_range('1st May 2021',periods=12)\n",
    "date_range=pd.DataFrame(date,columns=['Dates'])"
   ]
  },
  {
   "cell_type": "code",
   "execution_count": 12,
   "id": "3ab21ead",
   "metadata": {},
   "outputs": [
    {
     "data": {
      "text/html": [
       "<div>\n",
       "<style scoped>\n",
       "    .dataframe tbody tr th:only-of-type {\n",
       "        vertical-align: middle;\n",
       "    }\n",
       "\n",
       "    .dataframe tbody tr th {\n",
       "        vertical-align: top;\n",
       "    }\n",
       "\n",
       "    .dataframe thead th {\n",
       "        text-align: right;\n",
       "    }\n",
       "</style>\n",
       "<table border=\"1\" class=\"dataframe\">\n",
       "  <thead>\n",
       "    <tr style=\"text-align: right;\">\n",
       "      <th></th>\n",
       "      <th>Dates</th>\n",
       "    </tr>\n",
       "  </thead>\n",
       "  <tbody>\n",
       "    <tr>\n",
       "      <th>0</th>\n",
       "      <td>2021-05-01</td>\n",
       "    </tr>\n",
       "    <tr>\n",
       "      <th>1</th>\n",
       "      <td>2021-05-02</td>\n",
       "    </tr>\n",
       "    <tr>\n",
       "      <th>2</th>\n",
       "      <td>2021-05-03</td>\n",
       "    </tr>\n",
       "    <tr>\n",
       "      <th>3</th>\n",
       "      <td>2021-05-04</td>\n",
       "    </tr>\n",
       "    <tr>\n",
       "      <th>4</th>\n",
       "      <td>2021-05-05</td>\n",
       "    </tr>\n",
       "    <tr>\n",
       "      <th>5</th>\n",
       "      <td>2021-05-06</td>\n",
       "    </tr>\n",
       "    <tr>\n",
       "      <th>6</th>\n",
       "      <td>2021-05-07</td>\n",
       "    </tr>\n",
       "    <tr>\n",
       "      <th>7</th>\n",
       "      <td>2021-05-08</td>\n",
       "    </tr>\n",
       "    <tr>\n",
       "      <th>8</th>\n",
       "      <td>2021-05-09</td>\n",
       "    </tr>\n",
       "    <tr>\n",
       "      <th>9</th>\n",
       "      <td>2021-05-10</td>\n",
       "    </tr>\n",
       "    <tr>\n",
       "      <th>10</th>\n",
       "      <td>2021-05-11</td>\n",
       "    </tr>\n",
       "    <tr>\n",
       "      <th>11</th>\n",
       "      <td>2021-05-12</td>\n",
       "    </tr>\n",
       "  </tbody>\n",
       "</table>\n",
       "</div>"
      ],
      "text/plain": [
       "        Dates\n",
       "0  2021-05-01\n",
       "1  2021-05-02\n",
       "2  2021-05-03\n",
       "3  2021-05-04\n",
       "4  2021-05-05\n",
       "5  2021-05-06\n",
       "6  2021-05-07\n",
       "7  2021-05-08\n",
       "8  2021-05-09\n",
       "9  2021-05-10\n",
       "10 2021-05-11\n",
       "11 2021-05-12"
      ]
     },
     "execution_count": 12,
     "metadata": {},
     "output_type": "execute_result"
    }
   ],
   "source": [
    "date_range"
   ]
  },
  {
   "cell_type": "markdown",
   "id": "a93f3406",
   "metadata": {},
   "source": [
    "# EXERCISE 4 - Implementing a function on each and every element of a series\n",
    "Apply the function, f(x) = x/2 on each and every element of a given pandas series"
   ]
  },
  {
   "cell_type": "code",
   "execution_count": 13,
   "id": "f294b933",
   "metadata": {},
   "outputs": [],
   "source": [
    "ser = pd.Series([2, 4, 6, 8, 10])"
   ]
  },
  {
   "cell_type": "code",
   "execution_count": 15,
   "id": "595d6c15",
   "metadata": {},
   "outputs": [],
   "source": [
    "func=ser.apply(lambda x:x/2)"
   ]
  },
  {
   "cell_type": "code",
   "execution_count": 16,
   "id": "d1ea3adf",
   "metadata": {},
   "outputs": [
    {
     "name": "stdout",
     "output_type": "stream",
     "text": [
      "0    1.0\n",
      "1    2.0\n",
      "2    3.0\n",
      "3    4.0\n",
      "4    5.0\n",
      "dtype: float64\n"
     ]
    }
   ],
   "source": [
    "print(func)"
   ]
  },
  {
   "cell_type": "markdown",
   "id": "08c48d37",
   "metadata": {},
   "source": [
    "# EXERCISE 5 - Dictionary-to-Dataframe Conversion\n",
    "Given a dictionary, convert it into corresponding dataframe and display it"
   ]
  },
  {
   "cell_type": "code",
   "execution_count": 17,
   "id": "e5a1952a",
   "metadata": {},
   "outputs": [],
   "source": [
    "frnds={'Names':['Saurav','Rohit','Yashu','Amisha','Sneha'],\n",
    "      'Age':[24,24,22,20,21],\n",
    "      'Occupation':['Berojgar','Student','Student','Ladke Ghumna','Student']}"
   ]
  },
  {
   "cell_type": "code",
   "execution_count": 18,
   "id": "d880763e",
   "metadata": {},
   "outputs": [],
   "source": [
    "df=pd.DataFrame(frnds)"
   ]
  },
  {
   "cell_type": "code",
   "execution_count": 19,
   "id": "54798c5b",
   "metadata": {},
   "outputs": [
    {
     "data": {
      "text/html": [
       "<div>\n",
       "<style scoped>\n",
       "    .dataframe tbody tr th:only-of-type {\n",
       "        vertical-align: middle;\n",
       "    }\n",
       "\n",
       "    .dataframe tbody tr th {\n",
       "        vertical-align: top;\n",
       "    }\n",
       "\n",
       "    .dataframe thead th {\n",
       "        text-align: right;\n",
       "    }\n",
       "</style>\n",
       "<table border=\"1\" class=\"dataframe\">\n",
       "  <thead>\n",
       "    <tr style=\"text-align: right;\">\n",
       "      <th></th>\n",
       "      <th>Names</th>\n",
       "      <th>Age</th>\n",
       "      <th>Occupation</th>\n",
       "    </tr>\n",
       "  </thead>\n",
       "  <tbody>\n",
       "    <tr>\n",
       "      <th>0</th>\n",
       "      <td>Saurav</td>\n",
       "      <td>24</td>\n",
       "      <td>Berojgar</td>\n",
       "    </tr>\n",
       "    <tr>\n",
       "      <th>1</th>\n",
       "      <td>Rohit</td>\n",
       "      <td>24</td>\n",
       "      <td>Student</td>\n",
       "    </tr>\n",
       "    <tr>\n",
       "      <th>2</th>\n",
       "      <td>Yashu</td>\n",
       "      <td>22</td>\n",
       "      <td>Student</td>\n",
       "    </tr>\n",
       "    <tr>\n",
       "      <th>3</th>\n",
       "      <td>Amisha</td>\n",
       "      <td>20</td>\n",
       "      <td>Ladke Ghumna</td>\n",
       "    </tr>\n",
       "    <tr>\n",
       "      <th>4</th>\n",
       "      <td>Sneha</td>\n",
       "      <td>21</td>\n",
       "      <td>Student</td>\n",
       "    </tr>\n",
       "  </tbody>\n",
       "</table>\n",
       "</div>"
      ],
      "text/plain": [
       "    Names  Age    Occupation\n",
       "0  Saurav   24      Berojgar\n",
       "1   Rohit   24       Student\n",
       "2   Yashu   22       Student\n",
       "3  Amisha   20  Ladke Ghumna\n",
       "4   Sneha   21       Student"
      ]
     },
     "execution_count": 19,
     "metadata": {},
     "output_type": "execute_result"
    }
   ],
   "source": [
    "df"
   ]
  },
  {
   "cell_type": "code",
   "execution_count": 20,
   "id": "6c2e22cc",
   "metadata": {},
   "outputs": [
    {
     "data": {
      "text/plain": [
       "pandas.core.frame.DataFrame"
      ]
     },
     "execution_count": 20,
     "metadata": {},
     "output_type": "execute_result"
    }
   ],
   "source": [
    "type(df)"
   ]
  },
  {
   "cell_type": "markdown",
   "id": "d3e9ee67",
   "metadata": {},
   "source": [
    "# EXERCISE 6 - 2D List-to-Dataframe Conversion\n",
    "Given a 2D List, convert it into corresponding dataframe and display it"
   ]
  },
  {
   "cell_type": "code",
   "execution_count": 36,
   "id": "bbdf44d8",
   "metadata": {},
   "outputs": [],
   "source": [
    "lst=[['Ravikesh','Yogesh','Sheetal','Rohit'],['Saurav','Yash','Rohit','Ram']]"
   ]
  },
  {
   "cell_type": "code",
   "execution_count": 42,
   "id": "1d22cddf",
   "metadata": {},
   "outputs": [],
   "source": [
    "df=pd.DataFrame(lst,columns=['Name1','Name2','Name3','Name4'],index=['Group1','Group2'])"
   ]
  },
  {
   "cell_type": "code",
   "execution_count": 50,
   "id": "6cf230f3",
   "metadata": {},
   "outputs": [],
   "source": [
    "df.to_csv('Names.csv')"
   ]
  },
  {
   "cell_type": "code",
   "execution_count": 46,
   "id": "6cc8ea4a",
   "metadata": {},
   "outputs": [
    {
     "data": {
      "text/html": [
       "<div>\n",
       "<style scoped>\n",
       "    .dataframe tbody tr th:only-of-type {\n",
       "        vertical-align: middle;\n",
       "    }\n",
       "\n",
       "    .dataframe tbody tr th {\n",
       "        vertical-align: top;\n",
       "    }\n",
       "\n",
       "    .dataframe thead th {\n",
       "        text-align: right;\n",
       "    }\n",
       "</style>\n",
       "<table border=\"1\" class=\"dataframe\">\n",
       "  <thead>\n",
       "    <tr style=\"text-align: right;\">\n",
       "      <th></th>\n",
       "      <th>Name1</th>\n",
       "      <th>Name2</th>\n",
       "      <th>Name3</th>\n",
       "      <th>Name4</th>\n",
       "    </tr>\n",
       "  </thead>\n",
       "  <tbody>\n",
       "    <tr>\n",
       "      <th>Group1</th>\n",
       "      <td>Ravikesh</td>\n",
       "      <td>Yogesh</td>\n",
       "      <td>Sheetal</td>\n",
       "      <td>Rohit</td>\n",
       "    </tr>\n",
       "    <tr>\n",
       "      <th>Group2</th>\n",
       "      <td>Saurav</td>\n",
       "      <td>Yash</td>\n",
       "      <td>Rohit</td>\n",
       "      <td>Ram</td>\n",
       "    </tr>\n",
       "  </tbody>\n",
       "</table>\n",
       "</div>"
      ],
      "text/plain": [
       "           Name1   Name2    Name3  Name4\n",
       "Group1  Ravikesh  Yogesh  Sheetal  Rohit\n",
       "Group2    Saurav    Yash    Rohit    Ram"
      ]
     },
     "execution_count": 46,
     "metadata": {},
     "output_type": "execute_result"
    }
   ],
   "source": [
    "df #LetsFight"
   ]
  },
  {
   "cell_type": "markdown",
   "id": "a1884614",
   "metadata": {},
   "source": [
    "# EXERCISE 7 - Reading CSV to Dataframe\n",
    "Given a CSV file, read it into a dataframe and display it"
   ]
  },
  {
   "cell_type": "code",
   "execution_count": 47,
   "id": "9472c5c7",
   "metadata": {},
   "outputs": [],
   "source": [
    "titanic_train=pd.read_csv('https://raw.githubusercontent.com/training-ml/Files/main/titanic_train.csv')"
   ]
  },
  {
   "cell_type": "code",
   "execution_count": 48,
   "id": "c0a549eb",
   "metadata": {},
   "outputs": [
    {
     "data": {
      "text/html": [
       "<div>\n",
       "<style scoped>\n",
       "    .dataframe tbody tr th:only-of-type {\n",
       "        vertical-align: middle;\n",
       "    }\n",
       "\n",
       "    .dataframe tbody tr th {\n",
       "        vertical-align: top;\n",
       "    }\n",
       "\n",
       "    .dataframe thead th {\n",
       "        text-align: right;\n",
       "    }\n",
       "</style>\n",
       "<table border=\"1\" class=\"dataframe\">\n",
       "  <thead>\n",
       "    <tr style=\"text-align: right;\">\n",
       "      <th></th>\n",
       "      <th>Unnamed: 0</th>\n",
       "      <th>PassengerId</th>\n",
       "      <th>Survived</th>\n",
       "      <th>Pclass</th>\n",
       "      <th>Name</th>\n",
       "      <th>Sex</th>\n",
       "      <th>Age</th>\n",
       "      <th>SibSp</th>\n",
       "      <th>Parch</th>\n",
       "      <th>Ticket</th>\n",
       "      <th>Fare</th>\n",
       "      <th>Cabin</th>\n",
       "      <th>Embarked</th>\n",
       "    </tr>\n",
       "  </thead>\n",
       "  <tbody>\n",
       "    <tr>\n",
       "      <th>0</th>\n",
       "      <td>0</td>\n",
       "      <td>1</td>\n",
       "      <td>0</td>\n",
       "      <td>3</td>\n",
       "      <td>Braund, Mr. Owen Harris</td>\n",
       "      <td>male</td>\n",
       "      <td>22.0</td>\n",
       "      <td>1</td>\n",
       "      <td>0</td>\n",
       "      <td>A/5 21171</td>\n",
       "      <td>7.2500</td>\n",
       "      <td>NaN</td>\n",
       "      <td>S</td>\n",
       "    </tr>\n",
       "    <tr>\n",
       "      <th>1</th>\n",
       "      <td>1</td>\n",
       "      <td>2</td>\n",
       "      <td>1</td>\n",
       "      <td>1</td>\n",
       "      <td>Cumings, Mrs. John Bradley (Florence Briggs Th...</td>\n",
       "      <td>female</td>\n",
       "      <td>38.0</td>\n",
       "      <td>1</td>\n",
       "      <td>0</td>\n",
       "      <td>PC 17599</td>\n",
       "      <td>71.2833</td>\n",
       "      <td>C85</td>\n",
       "      <td>C</td>\n",
       "    </tr>\n",
       "    <tr>\n",
       "      <th>2</th>\n",
       "      <td>2</td>\n",
       "      <td>3</td>\n",
       "      <td>1</td>\n",
       "      <td>3</td>\n",
       "      <td>Heikkinen, Miss. Laina</td>\n",
       "      <td>female</td>\n",
       "      <td>26.0</td>\n",
       "      <td>0</td>\n",
       "      <td>0</td>\n",
       "      <td>STON/O2. 3101282</td>\n",
       "      <td>7.9250</td>\n",
       "      <td>NaN</td>\n",
       "      <td>S</td>\n",
       "    </tr>\n",
       "    <tr>\n",
       "      <th>3</th>\n",
       "      <td>3</td>\n",
       "      <td>4</td>\n",
       "      <td>1</td>\n",
       "      <td>1</td>\n",
       "      <td>Futrelle, Mrs. Jacques Heath (Lily May Peel)</td>\n",
       "      <td>female</td>\n",
       "      <td>35.0</td>\n",
       "      <td>1</td>\n",
       "      <td>0</td>\n",
       "      <td>113803</td>\n",
       "      <td>53.1000</td>\n",
       "      <td>C123</td>\n",
       "      <td>S</td>\n",
       "    </tr>\n",
       "    <tr>\n",
       "      <th>4</th>\n",
       "      <td>4</td>\n",
       "      <td>5</td>\n",
       "      <td>0</td>\n",
       "      <td>3</td>\n",
       "      <td>Allen, Mr. William Henry</td>\n",
       "      <td>male</td>\n",
       "      <td>35.0</td>\n",
       "      <td>0</td>\n",
       "      <td>0</td>\n",
       "      <td>373450</td>\n",
       "      <td>8.0500</td>\n",
       "      <td>NaN</td>\n",
       "      <td>S</td>\n",
       "    </tr>\n",
       "  </tbody>\n",
       "</table>\n",
       "</div>"
      ],
      "text/plain": [
       "   Unnamed: 0  PassengerId  Survived  Pclass  \\\n",
       "0           0            1         0       3   \n",
       "1           1            2         1       1   \n",
       "2           2            3         1       3   \n",
       "3           3            4         1       1   \n",
       "4           4            5         0       3   \n",
       "\n",
       "                                                Name     Sex   Age  SibSp  \\\n",
       "0                            Braund, Mr. Owen Harris    male  22.0      1   \n",
       "1  Cumings, Mrs. John Bradley (Florence Briggs Th...  female  38.0      1   \n",
       "2                             Heikkinen, Miss. Laina  female  26.0      0   \n",
       "3       Futrelle, Mrs. Jacques Heath (Lily May Peel)  female  35.0      1   \n",
       "4                           Allen, Mr. William Henry    male  35.0      0   \n",
       "\n",
       "   Parch            Ticket     Fare Cabin Embarked  \n",
       "0      0         A/5 21171   7.2500   NaN        S  \n",
       "1      0          PC 17599  71.2833   C85        C  \n",
       "2      0  STON/O2. 3101282   7.9250   NaN        S  \n",
       "3      0            113803  53.1000  C123        S  \n",
       "4      0            373450   8.0500   NaN        S  "
      ]
     },
     "execution_count": 48,
     "metadata": {},
     "output_type": "execute_result"
    }
   ],
   "source": [
    "titanic_train.head()"
   ]
  },
  {
   "cell_type": "code",
   "execution_count": 51,
   "id": "6b6d3a79",
   "metadata": {},
   "outputs": [],
   "source": [
    "name=pd.read_csv('Names.csv')"
   ]
  },
  {
   "cell_type": "code",
   "execution_count": 52,
   "id": "08c63b1d",
   "metadata": {},
   "outputs": [
    {
     "data": {
      "text/html": [
       "<div>\n",
       "<style scoped>\n",
       "    .dataframe tbody tr th:only-of-type {\n",
       "        vertical-align: middle;\n",
       "    }\n",
       "\n",
       "    .dataframe tbody tr th {\n",
       "        vertical-align: top;\n",
       "    }\n",
       "\n",
       "    .dataframe thead th {\n",
       "        text-align: right;\n",
       "    }\n",
       "</style>\n",
       "<table border=\"1\" class=\"dataframe\">\n",
       "  <thead>\n",
       "    <tr style=\"text-align: right;\">\n",
       "      <th></th>\n",
       "      <th>Unnamed: 0</th>\n",
       "      <th>Name1</th>\n",
       "      <th>Name2</th>\n",
       "      <th>Name3</th>\n",
       "      <th>Name4</th>\n",
       "    </tr>\n",
       "  </thead>\n",
       "  <tbody>\n",
       "    <tr>\n",
       "      <th>0</th>\n",
       "      <td>Group1</td>\n",
       "      <td>Ravikesh</td>\n",
       "      <td>Yogesh</td>\n",
       "      <td>Sheetal</td>\n",
       "      <td>Rohit</td>\n",
       "    </tr>\n",
       "    <tr>\n",
       "      <th>1</th>\n",
       "      <td>Group2</td>\n",
       "      <td>Saurav</td>\n",
       "      <td>Yash</td>\n",
       "      <td>Rohit</td>\n",
       "      <td>Ram</td>\n",
       "    </tr>\n",
       "  </tbody>\n",
       "</table>\n",
       "</div>"
      ],
      "text/plain": [
       "  Unnamed: 0     Name1   Name2    Name3  Name4\n",
       "0     Group1  Ravikesh  Yogesh  Sheetal  Rohit\n",
       "1     Group2    Saurav    Yash    Rohit    Ram"
      ]
     },
     "execution_count": 52,
     "metadata": {},
     "output_type": "execute_result"
    }
   ],
   "source": [
    "name"
   ]
  },
  {
   "cell_type": "markdown",
   "id": "71ecac1b",
   "metadata": {},
   "source": [
    "# EXERCISE 8 - Setting Custom Index in Dataframe\n",
    "Given a dataframe, change the index of a dataframe from the default indexes to a particular column"
   ]
  },
  {
   "cell_type": "code",
   "execution_count": 102,
   "id": "e4824c16",
   "metadata": {},
   "outputs": [],
   "source": [
    "df={'Name':['Saurav','Sheetal','Amisha','Surabhi'],\n",
    "                'Age':[24,22,20,20],\n",
    "                'Occupation':['Berojgar','Data Scientist','Student','Student'],\n",
    "   'Roll Number':[1,2,3,4]} "
   ]
  },
  {
   "cell_type": "code",
   "execution_count": 103,
   "id": "3840b320",
   "metadata": {},
   "outputs": [
    {
     "data": {
      "text/plain": [
       "{'Name': ['Saurav', 'Sheetal', 'Amisha', 'Surabhi'],\n",
       " 'Age': [24, 22, 20, 20],\n",
       " 'Occupation': ['Berojgar', 'Data Scientist', 'Student', 'Student'],\n",
       " 'Roll Number': [1, 2, 3, 4]}"
      ]
     },
     "execution_count": 103,
     "metadata": {},
     "output_type": "execute_result"
    }
   ],
   "source": [
    "df"
   ]
  },
  {
   "cell_type": "code",
   "execution_count": 104,
   "id": "0f0fa9c3",
   "metadata": {},
   "outputs": [],
   "source": [
    "df=pd.DataFrame(df,index=[1,2,3,4])"
   ]
  },
  {
   "cell_type": "code",
   "execution_count": 150,
   "id": "f26b11b7",
   "metadata": {},
   "outputs": [
    {
     "data": {
      "text/html": [
       "<div>\n",
       "<style scoped>\n",
       "    .dataframe tbody tr th:only-of-type {\n",
       "        vertical-align: middle;\n",
       "    }\n",
       "\n",
       "    .dataframe tbody tr th {\n",
       "        vertical-align: top;\n",
       "    }\n",
       "\n",
       "    .dataframe thead th {\n",
       "        text-align: right;\n",
       "    }\n",
       "</style>\n",
       "<table border=\"1\" class=\"dataframe\">\n",
       "  <thead>\n",
       "    <tr style=\"text-align: right;\">\n",
       "      <th></th>\n",
       "      <th>Name</th>\n",
       "      <th>Age</th>\n",
       "      <th>Occupation</th>\n",
       "      <th>Roll Number</th>\n",
       "    </tr>\n",
       "  </thead>\n",
       "  <tbody>\n",
       "    <tr>\n",
       "      <th>0</th>\n",
       "      <td>Saurav</td>\n",
       "      <td>24</td>\n",
       "      <td>Berojgar</td>\n",
       "      <td>4</td>\n",
       "    </tr>\n",
       "    <tr>\n",
       "      <th>1</th>\n",
       "      <td>Sheetal</td>\n",
       "      <td>22</td>\n",
       "      <td>Data Scientist</td>\n",
       "      <td>2</td>\n",
       "    </tr>\n",
       "    <tr>\n",
       "      <th>2</th>\n",
       "      <td>Amisha</td>\n",
       "      <td>20</td>\n",
       "      <td>Student</td>\n",
       "      <td>3</td>\n",
       "    </tr>\n",
       "    <tr>\n",
       "      <th>3</th>\n",
       "      <td>Surabhi</td>\n",
       "      <td>20</td>\n",
       "      <td>Student</td>\n",
       "      <td>1</td>\n",
       "    </tr>\n",
       "  </tbody>\n",
       "</table>\n",
       "</div>"
      ],
      "text/plain": [
       "      Name  Age      Occupation  Roll Number\n",
       "0   Saurav   24        Berojgar            4\n",
       "1  Sheetal   22  Data Scientist            2\n",
       "2   Amisha   20         Student            3\n",
       "3  Surabhi   20         Student            1"
      ]
     },
     "execution_count": 150,
     "metadata": {},
     "output_type": "execute_result"
    }
   ],
   "source": [
    "df"
   ]
  },
  {
   "cell_type": "code",
   "execution_count": 151,
   "id": "123b7688",
   "metadata": {},
   "outputs": [],
   "source": [
    "custom_index=df.set_index('Roll Number')"
   ]
  },
  {
   "cell_type": "code",
   "execution_count": 152,
   "id": "3aa47de8",
   "metadata": {},
   "outputs": [
    {
     "data": {
      "text/html": [
       "<div>\n",
       "<style scoped>\n",
       "    .dataframe tbody tr th:only-of-type {\n",
       "        vertical-align: middle;\n",
       "    }\n",
       "\n",
       "    .dataframe tbody tr th {\n",
       "        vertical-align: top;\n",
       "    }\n",
       "\n",
       "    .dataframe thead th {\n",
       "        text-align: right;\n",
       "    }\n",
       "</style>\n",
       "<table border=\"1\" class=\"dataframe\">\n",
       "  <thead>\n",
       "    <tr style=\"text-align: right;\">\n",
       "      <th></th>\n",
       "      <th>Name</th>\n",
       "      <th>Age</th>\n",
       "      <th>Occupation</th>\n",
       "    </tr>\n",
       "    <tr>\n",
       "      <th>Roll Number</th>\n",
       "      <th></th>\n",
       "      <th></th>\n",
       "      <th></th>\n",
       "    </tr>\n",
       "  </thead>\n",
       "  <tbody>\n",
       "    <tr>\n",
       "      <th>4</th>\n",
       "      <td>Saurav</td>\n",
       "      <td>24</td>\n",
       "      <td>Berojgar</td>\n",
       "    </tr>\n",
       "    <tr>\n",
       "      <th>2</th>\n",
       "      <td>Sheetal</td>\n",
       "      <td>22</td>\n",
       "      <td>Data Scientist</td>\n",
       "    </tr>\n",
       "    <tr>\n",
       "      <th>3</th>\n",
       "      <td>Amisha</td>\n",
       "      <td>20</td>\n",
       "      <td>Student</td>\n",
       "    </tr>\n",
       "    <tr>\n",
       "      <th>1</th>\n",
       "      <td>Surabhi</td>\n",
       "      <td>20</td>\n",
       "      <td>Student</td>\n",
       "    </tr>\n",
       "  </tbody>\n",
       "</table>\n",
       "</div>"
      ],
      "text/plain": [
       "                Name  Age      Occupation\n",
       "Roll Number                              \n",
       "4             Saurav   24        Berojgar\n",
       "2            Sheetal   22  Data Scientist\n",
       "3             Amisha   20         Student\n",
       "1            Surabhi   20         Student"
      ]
     },
     "execution_count": 152,
     "metadata": {},
     "output_type": "execute_result"
    }
   ],
   "source": [
    "custom_index"
   ]
  },
  {
   "cell_type": "markdown",
   "id": "69bfeaa2",
   "metadata": {},
   "source": [
    "# EXERCISE 9 - Sorting a Dataframe by Index\n",
    "Given a dataframe (say, with custom indexing), sort it by it's index"
   ]
  },
  {
   "cell_type": "code",
   "execution_count": 153,
   "id": "cc93b4c6",
   "metadata": {},
   "outputs": [],
   "source": [
    "df={'Name':['Saurav','Sheetal','Amisha','Surabhi'],\n",
    "                'Age':[24,22,20,20],\n",
    "                'Occupation':['Berojgar','Data Scientist','Student','Student'],\n",
    "   'Roll Number':[4,2,3,1]} "
   ]
  },
  {
   "cell_type": "code",
   "execution_count": 154,
   "id": "baeae0e1",
   "metadata": {},
   "outputs": [
    {
     "data": {
      "text/plain": [
       "{'Name': ['Saurav', 'Sheetal', 'Amisha', 'Surabhi'],\n",
       " 'Age': [24, 22, 20, 20],\n",
       " 'Occupation': ['Berojgar', 'Data Scientist', 'Student', 'Student'],\n",
       " 'Roll Number': [4, 2, 3, 1]}"
      ]
     },
     "execution_count": 154,
     "metadata": {},
     "output_type": "execute_result"
    }
   ],
   "source": [
    "df"
   ]
  },
  {
   "cell_type": "code",
   "execution_count": 155,
   "id": "bddcadec",
   "metadata": {},
   "outputs": [],
   "source": [
    "df=pd.DataFrame(df)"
   ]
  },
  {
   "cell_type": "code",
   "execution_count": 156,
   "id": "4aa2e11e",
   "metadata": {},
   "outputs": [],
   "source": [
    "custom_index=df.set_index('Roll Number')"
   ]
  },
  {
   "cell_type": "code",
   "execution_count": 157,
   "id": "7cbc8e20",
   "metadata": {},
   "outputs": [
    {
     "data": {
      "text/html": [
       "<div>\n",
       "<style scoped>\n",
       "    .dataframe tbody tr th:only-of-type {\n",
       "        vertical-align: middle;\n",
       "    }\n",
       "\n",
       "    .dataframe tbody tr th {\n",
       "        vertical-align: top;\n",
       "    }\n",
       "\n",
       "    .dataframe thead th {\n",
       "        text-align: right;\n",
       "    }\n",
       "</style>\n",
       "<table border=\"1\" class=\"dataframe\">\n",
       "  <thead>\n",
       "    <tr style=\"text-align: right;\">\n",
       "      <th></th>\n",
       "      <th>Name</th>\n",
       "      <th>Age</th>\n",
       "      <th>Occupation</th>\n",
       "    </tr>\n",
       "    <tr>\n",
       "      <th>Roll Number</th>\n",
       "      <th></th>\n",
       "      <th></th>\n",
       "      <th></th>\n",
       "    </tr>\n",
       "  </thead>\n",
       "  <tbody>\n",
       "    <tr>\n",
       "      <th>4</th>\n",
       "      <td>Saurav</td>\n",
       "      <td>24</td>\n",
       "      <td>Berojgar</td>\n",
       "    </tr>\n",
       "    <tr>\n",
       "      <th>2</th>\n",
       "      <td>Sheetal</td>\n",
       "      <td>22</td>\n",
       "      <td>Data Scientist</td>\n",
       "    </tr>\n",
       "    <tr>\n",
       "      <th>3</th>\n",
       "      <td>Amisha</td>\n",
       "      <td>20</td>\n",
       "      <td>Student</td>\n",
       "    </tr>\n",
       "    <tr>\n",
       "      <th>1</th>\n",
       "      <td>Surabhi</td>\n",
       "      <td>20</td>\n",
       "      <td>Student</td>\n",
       "    </tr>\n",
       "  </tbody>\n",
       "</table>\n",
       "</div>"
      ],
      "text/plain": [
       "                Name  Age      Occupation\n",
       "Roll Number                              \n",
       "4             Saurav   24        Berojgar\n",
       "2            Sheetal   22  Data Scientist\n",
       "3             Amisha   20         Student\n",
       "1            Surabhi   20         Student"
      ]
     },
     "execution_count": 157,
     "metadata": {},
     "output_type": "execute_result"
    }
   ],
   "source": [
    "custom_index"
   ]
  },
  {
   "cell_type": "code",
   "execution_count": 158,
   "id": "6418cb60",
   "metadata": {},
   "outputs": [],
   "source": [
    "custom_index=custom_index.sort_index()"
   ]
  },
  {
   "cell_type": "code",
   "execution_count": 159,
   "id": "fb258888",
   "metadata": {},
   "outputs": [
    {
     "data": {
      "text/html": [
       "<div>\n",
       "<style scoped>\n",
       "    .dataframe tbody tr th:only-of-type {\n",
       "        vertical-align: middle;\n",
       "    }\n",
       "\n",
       "    .dataframe tbody tr th {\n",
       "        vertical-align: top;\n",
       "    }\n",
       "\n",
       "    .dataframe thead th {\n",
       "        text-align: right;\n",
       "    }\n",
       "</style>\n",
       "<table border=\"1\" class=\"dataframe\">\n",
       "  <thead>\n",
       "    <tr style=\"text-align: right;\">\n",
       "      <th></th>\n",
       "      <th>Name</th>\n",
       "      <th>Age</th>\n",
       "      <th>Occupation</th>\n",
       "    </tr>\n",
       "    <tr>\n",
       "      <th>Roll Number</th>\n",
       "      <th></th>\n",
       "      <th></th>\n",
       "      <th></th>\n",
       "    </tr>\n",
       "  </thead>\n",
       "  <tbody>\n",
       "    <tr>\n",
       "      <th>1</th>\n",
       "      <td>Surabhi</td>\n",
       "      <td>20</td>\n",
       "      <td>Student</td>\n",
       "    </tr>\n",
       "    <tr>\n",
       "      <th>2</th>\n",
       "      <td>Sheetal</td>\n",
       "      <td>22</td>\n",
       "      <td>Data Scientist</td>\n",
       "    </tr>\n",
       "    <tr>\n",
       "      <th>3</th>\n",
       "      <td>Amisha</td>\n",
       "      <td>20</td>\n",
       "      <td>Student</td>\n",
       "    </tr>\n",
       "    <tr>\n",
       "      <th>4</th>\n",
       "      <td>Saurav</td>\n",
       "      <td>24</td>\n",
       "      <td>Berojgar</td>\n",
       "    </tr>\n",
       "  </tbody>\n",
       "</table>\n",
       "</div>"
      ],
      "text/plain": [
       "                Name  Age      Occupation\n",
       "Roll Number                              \n",
       "1            Surabhi   20         Student\n",
       "2            Sheetal   22  Data Scientist\n",
       "3             Amisha   20         Student\n",
       "4             Saurav   24        Berojgar"
      ]
     },
     "execution_count": 159,
     "metadata": {},
     "output_type": "execute_result"
    }
   ],
   "source": [
    "custom_index"
   ]
  },
  {
   "cell_type": "markdown",
   "id": "90dbbf6e",
   "metadata": {},
   "source": [
    "# EXERCISE 10 - Sorting a Dataframe by Multiple Columns\n",
    "Given a dataframe, sort it by multiple columns"
   ]
  },
  {
   "cell_type": "code",
   "execution_count": 160,
   "id": "6f7f762e",
   "metadata": {},
   "outputs": [
    {
     "data": {
      "text/html": [
       "<div>\n",
       "<style scoped>\n",
       "    .dataframe tbody tr th:only-of-type {\n",
       "        vertical-align: middle;\n",
       "    }\n",
       "\n",
       "    .dataframe tbody tr th {\n",
       "        vertical-align: top;\n",
       "    }\n",
       "\n",
       "    .dataframe thead th {\n",
       "        text-align: right;\n",
       "    }\n",
       "</style>\n",
       "<table border=\"1\" class=\"dataframe\">\n",
       "  <thead>\n",
       "    <tr style=\"text-align: right;\">\n",
       "      <th></th>\n",
       "      <th>Name</th>\n",
       "      <th>Age</th>\n",
       "      <th>Occupation</th>\n",
       "      <th>Roll Number</th>\n",
       "    </tr>\n",
       "  </thead>\n",
       "  <tbody>\n",
       "    <tr>\n",
       "      <th>0</th>\n",
       "      <td>Saurav</td>\n",
       "      <td>24</td>\n",
       "      <td>Berojgar</td>\n",
       "      <td>4</td>\n",
       "    </tr>\n",
       "    <tr>\n",
       "      <th>1</th>\n",
       "      <td>Sheetal</td>\n",
       "      <td>22</td>\n",
       "      <td>Data Scientist</td>\n",
       "      <td>2</td>\n",
       "    </tr>\n",
       "    <tr>\n",
       "      <th>2</th>\n",
       "      <td>Amisha</td>\n",
       "      <td>20</td>\n",
       "      <td>Student</td>\n",
       "      <td>3</td>\n",
       "    </tr>\n",
       "    <tr>\n",
       "      <th>3</th>\n",
       "      <td>Surabhi</td>\n",
       "      <td>20</td>\n",
       "      <td>Student</td>\n",
       "      <td>1</td>\n",
       "    </tr>\n",
       "  </tbody>\n",
       "</table>\n",
       "</div>"
      ],
      "text/plain": [
       "      Name  Age      Occupation  Roll Number\n",
       "0   Saurav   24        Berojgar            4\n",
       "1  Sheetal   22  Data Scientist            2\n",
       "2   Amisha   20         Student            3\n",
       "3  Surabhi   20         Student            1"
      ]
     },
     "execution_count": 160,
     "metadata": {},
     "output_type": "execute_result"
    }
   ],
   "source": [
    "df#This is my DataFrame"
   ]
  },
  {
   "cell_type": "code",
   "execution_count": 167,
   "id": "cfcbf72b",
   "metadata": {},
   "outputs": [],
   "source": [
    "set_index=df.sort_values(by=['Roll Number','Age'])"
   ]
  },
  {
   "cell_type": "code",
   "execution_count": 162,
   "id": "3cae7152",
   "metadata": {},
   "outputs": [
    {
     "data": {
      "text/html": [
       "<div>\n",
       "<style scoped>\n",
       "    .dataframe tbody tr th:only-of-type {\n",
       "        vertical-align: middle;\n",
       "    }\n",
       "\n",
       "    .dataframe tbody tr th {\n",
       "        vertical-align: top;\n",
       "    }\n",
       "\n",
       "    .dataframe thead th {\n",
       "        text-align: right;\n",
       "    }\n",
       "</style>\n",
       "<table border=\"1\" class=\"dataframe\">\n",
       "  <thead>\n",
       "    <tr style=\"text-align: right;\">\n",
       "      <th></th>\n",
       "      <th>Name</th>\n",
       "      <th>Age</th>\n",
       "      <th>Occupation</th>\n",
       "      <th>Roll Number</th>\n",
       "    </tr>\n",
       "  </thead>\n",
       "  <tbody>\n",
       "    <tr>\n",
       "      <th>3</th>\n",
       "      <td>Surabhi</td>\n",
       "      <td>20</td>\n",
       "      <td>Student</td>\n",
       "      <td>1</td>\n",
       "    </tr>\n",
       "    <tr>\n",
       "      <th>1</th>\n",
       "      <td>Sheetal</td>\n",
       "      <td>22</td>\n",
       "      <td>Data Scientist</td>\n",
       "      <td>2</td>\n",
       "    </tr>\n",
       "    <tr>\n",
       "      <th>2</th>\n",
       "      <td>Amisha</td>\n",
       "      <td>20</td>\n",
       "      <td>Student</td>\n",
       "      <td>3</td>\n",
       "    </tr>\n",
       "    <tr>\n",
       "      <th>0</th>\n",
       "      <td>Saurav</td>\n",
       "      <td>24</td>\n",
       "      <td>Berojgar</td>\n",
       "      <td>4</td>\n",
       "    </tr>\n",
       "  </tbody>\n",
       "</table>\n",
       "</div>"
      ],
      "text/plain": [
       "      Name  Age      Occupation  Roll Number\n",
       "3  Surabhi   20         Student            1\n",
       "1  Sheetal   22  Data Scientist            2\n",
       "2   Amisha   20         Student            3\n",
       "0   Saurav   24        Berojgar            4"
      ]
     },
     "execution_count": 162,
     "metadata": {},
     "output_type": "execute_result"
    }
   ],
   "source": [
    "set_index"
   ]
  },
  {
   "cell_type": "markdown",
   "id": "31b33df7",
   "metadata": {},
   "source": [
    "# EXERCISE 11 - DataFrame with Custom Index to DataFrame with Dataframe with default indexes\n",
    "Given a dataframe with custom indexing, convert and it to default indexing and display "
   ]
  },
  {
   "cell_type": "code",
   "execution_count": 163,
   "id": "03cf33da",
   "metadata": {},
   "outputs": [],
   "source": [
    "set_index=set_index.reset_index()"
   ]
  },
  {
   "cell_type": "code",
   "execution_count": 164,
   "id": "3ab1ee4b",
   "metadata": {},
   "outputs": [
    {
     "data": {
      "text/html": [
       "<div>\n",
       "<style scoped>\n",
       "    .dataframe tbody tr th:only-of-type {\n",
       "        vertical-align: middle;\n",
       "    }\n",
       "\n",
       "    .dataframe tbody tr th {\n",
       "        vertical-align: top;\n",
       "    }\n",
       "\n",
       "    .dataframe thead th {\n",
       "        text-align: right;\n",
       "    }\n",
       "</style>\n",
       "<table border=\"1\" class=\"dataframe\">\n",
       "  <thead>\n",
       "    <tr style=\"text-align: right;\">\n",
       "      <th></th>\n",
       "      <th>index</th>\n",
       "      <th>Name</th>\n",
       "      <th>Age</th>\n",
       "      <th>Occupation</th>\n",
       "      <th>Roll Number</th>\n",
       "    </tr>\n",
       "  </thead>\n",
       "  <tbody>\n",
       "    <tr>\n",
       "      <th>0</th>\n",
       "      <td>3</td>\n",
       "      <td>Surabhi</td>\n",
       "      <td>20</td>\n",
       "      <td>Student</td>\n",
       "      <td>1</td>\n",
       "    </tr>\n",
       "    <tr>\n",
       "      <th>1</th>\n",
       "      <td>1</td>\n",
       "      <td>Sheetal</td>\n",
       "      <td>22</td>\n",
       "      <td>Data Scientist</td>\n",
       "      <td>2</td>\n",
       "    </tr>\n",
       "    <tr>\n",
       "      <th>2</th>\n",
       "      <td>2</td>\n",
       "      <td>Amisha</td>\n",
       "      <td>20</td>\n",
       "      <td>Student</td>\n",
       "      <td>3</td>\n",
       "    </tr>\n",
       "    <tr>\n",
       "      <th>3</th>\n",
       "      <td>0</td>\n",
       "      <td>Saurav</td>\n",
       "      <td>24</td>\n",
       "      <td>Berojgar</td>\n",
       "      <td>4</td>\n",
       "    </tr>\n",
       "  </tbody>\n",
       "</table>\n",
       "</div>"
      ],
      "text/plain": [
       "   index     Name  Age      Occupation  Roll Number\n",
       "0      3  Surabhi   20         Student            1\n",
       "1      1  Sheetal   22  Data Scientist            2\n",
       "2      2   Amisha   20         Student            3\n",
       "3      0   Saurav   24        Berojgar            4"
      ]
     },
     "execution_count": 164,
     "metadata": {},
     "output_type": "execute_result"
    }
   ],
   "source": [
    "set_index"
   ]
  },
  {
   "cell_type": "markdown",
   "id": "5098f4a7",
   "metadata": {},
   "source": [
    "# EXERCISE 12 - Indexing and Selecting Columns in a DataFrame\n",
    "Given a dataframe, select a particular column and display it"
   ]
  },
  {
   "cell_type": "code",
   "execution_count": 170,
   "id": "640704d0",
   "metadata": {},
   "outputs": [
    {
     "data": {
      "text/html": [
       "<div>\n",
       "<style scoped>\n",
       "    .dataframe tbody tr th:only-of-type {\n",
       "        vertical-align: middle;\n",
       "    }\n",
       "\n",
       "    .dataframe tbody tr th {\n",
       "        vertical-align: top;\n",
       "    }\n",
       "\n",
       "    .dataframe thead th {\n",
       "        text-align: right;\n",
       "    }\n",
       "</style>\n",
       "<table border=\"1\" class=\"dataframe\">\n",
       "  <thead>\n",
       "    <tr style=\"text-align: right;\">\n",
       "      <th></th>\n",
       "      <th>Name</th>\n",
       "      <th>Age</th>\n",
       "      <th>Occupation</th>\n",
       "      <th>Roll Number</th>\n",
       "    </tr>\n",
       "  </thead>\n",
       "  <tbody>\n",
       "    <tr>\n",
       "      <th>0</th>\n",
       "      <td>Saurav</td>\n",
       "      <td>24</td>\n",
       "      <td>Berojgar</td>\n",
       "      <td>4</td>\n",
       "    </tr>\n",
       "    <tr>\n",
       "      <th>1</th>\n",
       "      <td>Sheetal</td>\n",
       "      <td>22</td>\n",
       "      <td>Data Scientist</td>\n",
       "      <td>2</td>\n",
       "    </tr>\n",
       "    <tr>\n",
       "      <th>2</th>\n",
       "      <td>Amisha</td>\n",
       "      <td>20</td>\n",
       "      <td>Student</td>\n",
       "      <td>3</td>\n",
       "    </tr>\n",
       "    <tr>\n",
       "      <th>3</th>\n",
       "      <td>Surabhi</td>\n",
       "      <td>20</td>\n",
       "      <td>Student</td>\n",
       "      <td>1</td>\n",
       "    </tr>\n",
       "  </tbody>\n",
       "</table>\n",
       "</div>"
      ],
      "text/plain": [
       "      Name  Age      Occupation  Roll Number\n",
       "0   Saurav   24        Berojgar            4\n",
       "1  Sheetal   22  Data Scientist            2\n",
       "2   Amisha   20         Student            3\n",
       "3  Surabhi   20         Student            1"
      ]
     },
     "execution_count": 170,
     "metadata": {},
     "output_type": "execute_result"
    }
   ],
   "source": [
    "df"
   ]
  },
  {
   "cell_type": "code",
   "execution_count": 173,
   "id": "2571eff2",
   "metadata": {},
   "outputs": [],
   "source": [
    "o=df['Name']"
   ]
  },
  {
   "cell_type": "code",
   "execution_count": 174,
   "id": "67345089",
   "metadata": {},
   "outputs": [
    {
     "data": {
      "text/plain": [
       "0     Saurav\n",
       "1    Sheetal\n",
       "2     Amisha\n",
       "3    Surabhi\n",
       "Name: Name, dtype: object"
      ]
     },
     "execution_count": 174,
     "metadata": {},
     "output_type": "execute_result"
    }
   ],
   "source": [
    "o"
   ]
  },
  {
   "cell_type": "markdown",
   "id": "b209b179",
   "metadata": {},
   "source": [
    "# EXERCISE 13 - Indexing and Selecting Rows in a DataFrame\n",
    "Given a dataframe, select first 2 rows and output them"
   ]
  },
  {
   "cell_type": "code",
   "execution_count": 176,
   "id": "a192c652",
   "metadata": {},
   "outputs": [
    {
     "data": {
      "text/html": [
       "<div>\n",
       "<style scoped>\n",
       "    .dataframe tbody tr th:only-of-type {\n",
       "        vertical-align: middle;\n",
       "    }\n",
       "\n",
       "    .dataframe tbody tr th {\n",
       "        vertical-align: top;\n",
       "    }\n",
       "\n",
       "    .dataframe thead th {\n",
       "        text-align: right;\n",
       "    }\n",
       "</style>\n",
       "<table border=\"1\" class=\"dataframe\">\n",
       "  <thead>\n",
       "    <tr style=\"text-align: right;\">\n",
       "      <th></th>\n",
       "      <th>Name</th>\n",
       "      <th>Age</th>\n",
       "      <th>Occupation</th>\n",
       "      <th>Roll Number</th>\n",
       "    </tr>\n",
       "  </thead>\n",
       "  <tbody>\n",
       "    <tr>\n",
       "      <th>0</th>\n",
       "      <td>Saurav</td>\n",
       "      <td>24</td>\n",
       "      <td>Berojgar</td>\n",
       "      <td>4</td>\n",
       "    </tr>\n",
       "    <tr>\n",
       "      <th>1</th>\n",
       "      <td>Sheetal</td>\n",
       "      <td>22</td>\n",
       "      <td>Data Scientist</td>\n",
       "      <td>2</td>\n",
       "    </tr>\n",
       "    <tr>\n",
       "      <th>2</th>\n",
       "      <td>Amisha</td>\n",
       "      <td>20</td>\n",
       "      <td>Student</td>\n",
       "      <td>3</td>\n",
       "    </tr>\n",
       "    <tr>\n",
       "      <th>3</th>\n",
       "      <td>Surabhi</td>\n",
       "      <td>20</td>\n",
       "      <td>Student</td>\n",
       "      <td>1</td>\n",
       "    </tr>\n",
       "  </tbody>\n",
       "</table>\n",
       "</div>"
      ],
      "text/plain": [
       "      Name  Age      Occupation  Roll Number\n",
       "0   Saurav   24        Berojgar            4\n",
       "1  Sheetal   22  Data Scientist            2\n",
       "2   Amisha   20         Student            3\n",
       "3  Surabhi   20         Student            1"
      ]
     },
     "execution_count": 176,
     "metadata": {},
     "output_type": "execute_result"
    }
   ],
   "source": [
    "df"
   ]
  },
  {
   "cell_type": "code",
   "execution_count": 177,
   "id": "bbc20509",
   "metadata": {},
   "outputs": [
    {
     "data": {
      "text/html": [
       "<div>\n",
       "<style scoped>\n",
       "    .dataframe tbody tr th:only-of-type {\n",
       "        vertical-align: middle;\n",
       "    }\n",
       "\n",
       "    .dataframe tbody tr th {\n",
       "        vertical-align: top;\n",
       "    }\n",
       "\n",
       "    .dataframe thead th {\n",
       "        text-align: right;\n",
       "    }\n",
       "</style>\n",
       "<table border=\"1\" class=\"dataframe\">\n",
       "  <thead>\n",
       "    <tr style=\"text-align: right;\">\n",
       "      <th></th>\n",
       "      <th>Name</th>\n",
       "      <th>Age</th>\n",
       "      <th>Occupation</th>\n",
       "      <th>Roll Number</th>\n",
       "    </tr>\n",
       "  </thead>\n",
       "  <tbody>\n",
       "    <tr>\n",
       "      <th>0</th>\n",
       "      <td>Saurav</td>\n",
       "      <td>24</td>\n",
       "      <td>Berojgar</td>\n",
       "      <td>4</td>\n",
       "    </tr>\n",
       "    <tr>\n",
       "      <th>1</th>\n",
       "      <td>Sheetal</td>\n",
       "      <td>22</td>\n",
       "      <td>Data Scientist</td>\n",
       "      <td>2</td>\n",
       "    </tr>\n",
       "  </tbody>\n",
       "</table>\n",
       "</div>"
      ],
      "text/plain": [
       "      Name  Age      Occupation  Roll Number\n",
       "0   Saurav   24        Berojgar            4\n",
       "1  Sheetal   22  Data Scientist            2"
      ]
     },
     "execution_count": 177,
     "metadata": {},
     "output_type": "execute_result"
    }
   ],
   "source": [
    "df.loc[0:1,:]"
   ]
  },
  {
   "cell_type": "markdown",
   "id": "5a9db70c",
   "metadata": {},
   "source": [
    "# EXERCISE 14 - Conditional Selection of Rows in a DataFrame\n",
    "Given a dataframe, select rows based on a condition"
   ]
  },
  {
   "cell_type": "code",
   "execution_count": 185,
   "id": "beb57e1c",
   "metadata": {},
   "outputs": [
    {
     "data": {
      "text/html": [
       "<div>\n",
       "<style scoped>\n",
       "    .dataframe tbody tr th:only-of-type {\n",
       "        vertical-align: middle;\n",
       "    }\n",
       "\n",
       "    .dataframe tbody tr th {\n",
       "        vertical-align: top;\n",
       "    }\n",
       "\n",
       "    .dataframe thead th {\n",
       "        text-align: right;\n",
       "    }\n",
       "</style>\n",
       "<table border=\"1\" class=\"dataframe\">\n",
       "  <thead>\n",
       "    <tr style=\"text-align: right;\">\n",
       "      <th></th>\n",
       "      <th>Name</th>\n",
       "      <th>Age</th>\n",
       "      <th>Occupation</th>\n",
       "      <th>Roll Number</th>\n",
       "    </tr>\n",
       "  </thead>\n",
       "  <tbody>\n",
       "    <tr>\n",
       "      <th>0</th>\n",
       "      <td>Saurav</td>\n",
       "      <td>24</td>\n",
       "      <td>Berojgar</td>\n",
       "      <td>4</td>\n",
       "    </tr>\n",
       "    <tr>\n",
       "      <th>1</th>\n",
       "      <td>Sheetal</td>\n",
       "      <td>22</td>\n",
       "      <td>Data Scientist</td>\n",
       "      <td>2</td>\n",
       "    </tr>\n",
       "    <tr>\n",
       "      <th>2</th>\n",
       "      <td>Amisha</td>\n",
       "      <td>20</td>\n",
       "      <td>Student</td>\n",
       "      <td>3</td>\n",
       "    </tr>\n",
       "    <tr>\n",
       "      <th>3</th>\n",
       "      <td>Surabhi</td>\n",
       "      <td>20</td>\n",
       "      <td>Student</td>\n",
       "      <td>1</td>\n",
       "    </tr>\n",
       "  </tbody>\n",
       "</table>\n",
       "</div>"
      ],
      "text/plain": [
       "      Name  Age      Occupation  Roll Number\n",
       "0   Saurav   24        Berojgar            4\n",
       "1  Sheetal   22  Data Scientist            2\n",
       "2   Amisha   20         Student            3\n",
       "3  Surabhi   20         Student            1"
      ]
     },
     "execution_count": 185,
     "metadata": {},
     "output_type": "execute_result"
    }
   ],
   "source": [
    "df"
   ]
  },
  {
   "cell_type": "code",
   "execution_count": 186,
   "id": "2b0bf10f",
   "metadata": {},
   "outputs": [],
   "source": [
    "p=df['Age'].loc[df['Age']>=22]"
   ]
  },
  {
   "cell_type": "code",
   "execution_count": 182,
   "id": "94d3aff2",
   "metadata": {},
   "outputs": [
    {
     "data": {
      "text/plain": [
       "0    24\n",
       "1    22\n",
       "Name: Age, dtype: int64"
      ]
     },
     "execution_count": 182,
     "metadata": {},
     "output_type": "execute_result"
    }
   ],
   "source": [
    "p"
   ]
  },
  {
   "cell_type": "markdown",
   "id": "a5fa7e38",
   "metadata": {},
   "source": [
    "# EXERCISE 15 - Applying Aggregate Functions\n",
    "Given is a dataframe showing name, occupation, salary of people. Find the average salary per occupation"
   ]
  },
  {
   "cell_type": "code",
   "execution_count": 214,
   "id": "73e957e4",
   "metadata": {},
   "outputs": [],
   "source": [
    "df={'Name':['Saurav','Sheetal','Amisha','Surabhi'],\n",
    "                'Age':[24,22,20,20],\n",
    "                'Occupation':['Data Scientist','Data Scientist','Student','Student'],\n",
    "   'Roll Number':[1,2,3,4],\n",
    "   'Salary':[2500,6500,3500,5500]} "
   ]
  },
  {
   "cell_type": "code",
   "execution_count": 215,
   "id": "09a01ad5",
   "metadata": {},
   "outputs": [],
   "source": [
    "df=pd.DataFrame(df)"
   ]
  },
  {
   "cell_type": "code",
   "execution_count": 216,
   "id": "d761133c",
   "metadata": {},
   "outputs": [
    {
     "data": {
      "text/html": [
       "<div>\n",
       "<style scoped>\n",
       "    .dataframe tbody tr th:only-of-type {\n",
       "        vertical-align: middle;\n",
       "    }\n",
       "\n",
       "    .dataframe tbody tr th {\n",
       "        vertical-align: top;\n",
       "    }\n",
       "\n",
       "    .dataframe thead th {\n",
       "        text-align: right;\n",
       "    }\n",
       "</style>\n",
       "<table border=\"1\" class=\"dataframe\">\n",
       "  <thead>\n",
       "    <tr style=\"text-align: right;\">\n",
       "      <th></th>\n",
       "      <th>Name</th>\n",
       "      <th>Age</th>\n",
       "      <th>Occupation</th>\n",
       "      <th>Roll Number</th>\n",
       "      <th>Salary</th>\n",
       "    </tr>\n",
       "  </thead>\n",
       "  <tbody>\n",
       "    <tr>\n",
       "      <th>0</th>\n",
       "      <td>Saurav</td>\n",
       "      <td>24</td>\n",
       "      <td>Data Scientist</td>\n",
       "      <td>1</td>\n",
       "      <td>2500</td>\n",
       "    </tr>\n",
       "    <tr>\n",
       "      <th>1</th>\n",
       "      <td>Sheetal</td>\n",
       "      <td>22</td>\n",
       "      <td>Data Scientist</td>\n",
       "      <td>2</td>\n",
       "      <td>6500</td>\n",
       "    </tr>\n",
       "    <tr>\n",
       "      <th>2</th>\n",
       "      <td>Amisha</td>\n",
       "      <td>20</td>\n",
       "      <td>Student</td>\n",
       "      <td>3</td>\n",
       "      <td>3500</td>\n",
       "    </tr>\n",
       "    <tr>\n",
       "      <th>3</th>\n",
       "      <td>Surabhi</td>\n",
       "      <td>20</td>\n",
       "      <td>Student</td>\n",
       "      <td>4</td>\n",
       "      <td>5500</td>\n",
       "    </tr>\n",
       "  </tbody>\n",
       "</table>\n",
       "</div>"
      ],
      "text/plain": [
       "      Name  Age      Occupation  Roll Number  Salary\n",
       "0   Saurav   24  Data Scientist            1    2500\n",
       "1  Sheetal   22  Data Scientist            2    6500\n",
       "2   Amisha   20         Student            3    3500\n",
       "3  Surabhi   20         Student            4    5500"
      ]
     },
     "execution_count": 216,
     "metadata": {},
     "output_type": "execute_result"
    }
   ],
   "source": [
    "df"
   ]
  },
  {
   "cell_type": "code",
   "execution_count": 218,
   "id": "932bb99c",
   "metadata": {},
   "outputs": [],
   "source": [
    "avg=df.groupby('Occupation')['Salary'].mean()"
   ]
  },
  {
   "cell_type": "code",
   "execution_count": 219,
   "id": "7c5c27e9",
   "metadata": {},
   "outputs": [
    {
     "data": {
      "text/plain": [
       "Occupation\n",
       "Data Scientist    4500.0\n",
       "Student           4500.0\n",
       "Name: Salary, dtype: float64"
      ]
     },
     "execution_count": 219,
     "metadata": {},
     "output_type": "execute_result"
    }
   ],
   "source": [
    "avg"
   ]
  },
  {
   "cell_type": "markdown",
   "id": "1b7b0ab6",
   "metadata": {},
   "source": [
    "# EXERCISE 16 - Filling NaN Values in a DataFrame\n",
    "Given a dataframe with NaN Values, fill the NaN values with 0"
   ]
  },
  {
   "cell_type": "code",
   "execution_count": 224,
   "id": "8123c53a",
   "metadata": {},
   "outputs": [],
   "source": [
    "dic={'Name':['Saurav','Sheetal','Amisha','Sneha'],\n",
    "    'Age':[24,np.nan,np.nan,20],\n",
    "    'Email':[np.nan,'xyz','abc',np.nan]}"
   ]
  },
  {
   "cell_type": "code",
   "execution_count": 225,
   "id": "c03924c0",
   "metadata": {},
   "outputs": [],
   "source": [
    "df=pd.DataFrame(dic)"
   ]
  },
  {
   "cell_type": "code",
   "execution_count": 226,
   "id": "eef5c285",
   "metadata": {},
   "outputs": [
    {
     "data": {
      "text/html": [
       "<div>\n",
       "<style scoped>\n",
       "    .dataframe tbody tr th:only-of-type {\n",
       "        vertical-align: middle;\n",
       "    }\n",
       "\n",
       "    .dataframe tbody tr th {\n",
       "        vertical-align: top;\n",
       "    }\n",
       "\n",
       "    .dataframe thead th {\n",
       "        text-align: right;\n",
       "    }\n",
       "</style>\n",
       "<table border=\"1\" class=\"dataframe\">\n",
       "  <thead>\n",
       "    <tr style=\"text-align: right;\">\n",
       "      <th></th>\n",
       "      <th>Name</th>\n",
       "      <th>Age</th>\n",
       "      <th>Email</th>\n",
       "    </tr>\n",
       "  </thead>\n",
       "  <tbody>\n",
       "    <tr>\n",
       "      <th>0</th>\n",
       "      <td>Saurav</td>\n",
       "      <td>24.0</td>\n",
       "      <td>NaN</td>\n",
       "    </tr>\n",
       "    <tr>\n",
       "      <th>1</th>\n",
       "      <td>Sheetal</td>\n",
       "      <td>NaN</td>\n",
       "      <td>xyz</td>\n",
       "    </tr>\n",
       "    <tr>\n",
       "      <th>2</th>\n",
       "      <td>Amisha</td>\n",
       "      <td>NaN</td>\n",
       "      <td>abc</td>\n",
       "    </tr>\n",
       "    <tr>\n",
       "      <th>3</th>\n",
       "      <td>Sneha</td>\n",
       "      <td>20.0</td>\n",
       "      <td>NaN</td>\n",
       "    </tr>\n",
       "  </tbody>\n",
       "</table>\n",
       "</div>"
      ],
      "text/plain": [
       "      Name   Age Email\n",
       "0   Saurav  24.0   NaN\n",
       "1  Sheetal   NaN   xyz\n",
       "2   Amisha   NaN   abc\n",
       "3    Sneha  20.0   NaN"
      ]
     },
     "execution_count": 226,
     "metadata": {},
     "output_type": "execute_result"
    }
   ],
   "source": [
    "df"
   ]
  },
  {
   "cell_type": "code",
   "execution_count": 232,
   "id": "f735231b",
   "metadata": {},
   "outputs": [
    {
     "data": {
      "text/html": [
       "<div>\n",
       "<style scoped>\n",
       "    .dataframe tbody tr th:only-of-type {\n",
       "        vertical-align: middle;\n",
       "    }\n",
       "\n",
       "    .dataframe tbody tr th {\n",
       "        vertical-align: top;\n",
       "    }\n",
       "\n",
       "    .dataframe thead th {\n",
       "        text-align: right;\n",
       "    }\n",
       "</style>\n",
       "<table border=\"1\" class=\"dataframe\">\n",
       "  <thead>\n",
       "    <tr style=\"text-align: right;\">\n",
       "      <th></th>\n",
       "      <th>Name</th>\n",
       "      <th>Age</th>\n",
       "      <th>Email</th>\n",
       "    </tr>\n",
       "  </thead>\n",
       "  <tbody>\n",
       "    <tr>\n",
       "      <th>0</th>\n",
       "      <td>Saurav</td>\n",
       "      <td>24.0</td>\n",
       "      <td>0</td>\n",
       "    </tr>\n",
       "    <tr>\n",
       "      <th>1</th>\n",
       "      <td>Sheetal</td>\n",
       "      <td>0.0</td>\n",
       "      <td>xyz</td>\n",
       "    </tr>\n",
       "    <tr>\n",
       "      <th>2</th>\n",
       "      <td>Amisha</td>\n",
       "      <td>0.0</td>\n",
       "      <td>abc</td>\n",
       "    </tr>\n",
       "    <tr>\n",
       "      <th>3</th>\n",
       "      <td>Sneha</td>\n",
       "      <td>20.0</td>\n",
       "      <td>0</td>\n",
       "    </tr>\n",
       "  </tbody>\n",
       "</table>\n",
       "</div>"
      ],
      "text/plain": [
       "      Name   Age Email\n",
       "0   Saurav  24.0     0\n",
       "1  Sheetal   0.0   xyz\n",
       "2   Amisha   0.0   abc\n",
       "3    Sneha  20.0     0"
      ]
     },
     "execution_count": 232,
     "metadata": {},
     "output_type": "execute_result"
    }
   ],
   "source": [
    "df.fillna(value=0)"
   ]
  },
  {
   "cell_type": "markdown",
   "id": "809b8e34",
   "metadata": {},
   "source": [
    "# EXERCISE 17 - Applying Functions (UDFs) on DataFrame\n",
    "Given is a dataframe showing Company Names (cname) and corresponding Profits (profit). Convert the values of Profit column such that values in it greater than 0 are set to True and the rest are set to False."
   ]
  },
  {
   "cell_type": "code",
   "execution_count": 234,
   "id": "ac72bf11",
   "metadata": {},
   "outputs": [],
   "source": [
    "dic={'cname':['Shyam & Co.','Ramlal & Bros.','Sharma Enterprises','Verma Furnitures','Rahul Stores'],\n",
    "    'profit':[-10000,10000,-5000,15000,20000]}"
   ]
  },
  {
   "cell_type": "code",
   "execution_count": 235,
   "id": "d03bb3cf",
   "metadata": {},
   "outputs": [],
   "source": [
    "df=pd.DataFrame(dic)"
   ]
  },
  {
   "cell_type": "code",
   "execution_count": 237,
   "id": "3da58075",
   "metadata": {},
   "outputs": [
    {
     "data": {
      "text/html": [
       "<div>\n",
       "<style scoped>\n",
       "    .dataframe tbody tr th:only-of-type {\n",
       "        vertical-align: middle;\n",
       "    }\n",
       "\n",
       "    .dataframe tbody tr th {\n",
       "        vertical-align: top;\n",
       "    }\n",
       "\n",
       "    .dataframe thead th {\n",
       "        text-align: right;\n",
       "    }\n",
       "</style>\n",
       "<table border=\"1\" class=\"dataframe\">\n",
       "  <thead>\n",
       "    <tr style=\"text-align: right;\">\n",
       "      <th></th>\n",
       "      <th>cname</th>\n",
       "      <th>profit</th>\n",
       "    </tr>\n",
       "  </thead>\n",
       "  <tbody>\n",
       "    <tr>\n",
       "      <th>0</th>\n",
       "      <td>Shyam &amp; Co.</td>\n",
       "      <td>-10000</td>\n",
       "    </tr>\n",
       "    <tr>\n",
       "      <th>1</th>\n",
       "      <td>Ramlal &amp; Bros.</td>\n",
       "      <td>10000</td>\n",
       "    </tr>\n",
       "    <tr>\n",
       "      <th>2</th>\n",
       "      <td>Sharma Enterprises</td>\n",
       "      <td>-5000</td>\n",
       "    </tr>\n",
       "    <tr>\n",
       "      <th>3</th>\n",
       "      <td>Verma Furnitures</td>\n",
       "      <td>15000</td>\n",
       "    </tr>\n",
       "    <tr>\n",
       "      <th>4</th>\n",
       "      <td>Rahul Stores</td>\n",
       "      <td>20000</td>\n",
       "    </tr>\n",
       "  </tbody>\n",
       "</table>\n",
       "</div>"
      ],
      "text/plain": [
       "                cname  profit\n",
       "0         Shyam & Co.  -10000\n",
       "1      Ramlal & Bros.   10000\n",
       "2  Sharma Enterprises   -5000\n",
       "3    Verma Furnitures   15000\n",
       "4        Rahul Stores   20000"
      ]
     },
     "execution_count": 237,
     "metadata": {},
     "output_type": "execute_result"
    }
   ],
   "source": [
    "df"
   ]
  },
  {
   "cell_type": "code",
   "execution_count": 239,
   "id": "b7ac4a89",
   "metadata": {},
   "outputs": [
    {
     "data": {
      "text/plain": [
       "0    False\n",
       "1     True\n",
       "2    False\n",
       "3     True\n",
       "4     True\n",
       "Name: profit, dtype: bool"
      ]
     },
     "execution_count": 239,
     "metadata": {},
     "output_type": "execute_result"
    }
   ],
   "source": [
    "df['profit'].apply(lambda x:x>1)"
   ]
  },
  {
   "cell_type": "markdown",
   "id": "123d8178",
   "metadata": {},
   "source": [
    "# EXERCISE 18 - Joining 2 DataFrames by a Common Column (key)\n",
    "Given are 2 dataframes, with one dataframe containing Employee ID (eid), Employee Name (ename) and Stipend (stipend) and the other dataframe containing Employee ID (eid) and designation of the employee (designation). Output the Dataframe containing Employee ID (eid), Employee Name (ename), Stipend (stipend) and Position (position)."
   ]
  },
  {
   "cell_type": "code",
   "execution_count": 240,
   "id": "fa4039e7",
   "metadata": {},
   "outputs": [],
   "source": [
    "left={'eid':[1,2,3,4],\n",
    "     'ename':['sid','saurav','harry','ron'],\n",
    "     'stipend':[10000,10000,5000,15000]}"
   ]
  },
  {
   "cell_type": "code",
   "execution_count": 241,
   "id": "ca050831",
   "metadata": {},
   "outputs": [],
   "source": [
    "df1=pd.DataFrame(left)"
   ]
  },
  {
   "cell_type": "code",
   "execution_count": 242,
   "id": "96f4e2ea",
   "metadata": {},
   "outputs": [],
   "source": [
    "right={'eid':[1,2,3,4],\n",
    "      'position':['employee','employee','intern','senior_employee']}"
   ]
  },
  {
   "cell_type": "code",
   "execution_count": 243,
   "id": "cde22b1b",
   "metadata": {},
   "outputs": [],
   "source": [
    "df2=pd.DataFrame(right)"
   ]
  },
  {
   "cell_type": "code",
   "execution_count": 253,
   "id": "2c4f95ca",
   "metadata": {},
   "outputs": [],
   "source": [
    "join=pd.merge(df1,df2,how='inner',on='eid')"
   ]
  },
  {
   "cell_type": "code",
   "execution_count": 254,
   "id": "b560ba5d",
   "metadata": {},
   "outputs": [
    {
     "data": {
      "text/html": [
       "<div>\n",
       "<style scoped>\n",
       "    .dataframe tbody tr th:only-of-type {\n",
       "        vertical-align: middle;\n",
       "    }\n",
       "\n",
       "    .dataframe tbody tr th {\n",
       "        vertical-align: top;\n",
       "    }\n",
       "\n",
       "    .dataframe thead th {\n",
       "        text-align: right;\n",
       "    }\n",
       "</style>\n",
       "<table border=\"1\" class=\"dataframe\">\n",
       "  <thead>\n",
       "    <tr style=\"text-align: right;\">\n",
       "      <th></th>\n",
       "      <th>eid</th>\n",
       "      <th>ename</th>\n",
       "      <th>stipend</th>\n",
       "      <th>position</th>\n",
       "    </tr>\n",
       "  </thead>\n",
       "  <tbody>\n",
       "    <tr>\n",
       "      <th>0</th>\n",
       "      <td>1</td>\n",
       "      <td>sid</td>\n",
       "      <td>10000</td>\n",
       "      <td>employee</td>\n",
       "    </tr>\n",
       "    <tr>\n",
       "      <th>1</th>\n",
       "      <td>2</td>\n",
       "      <td>saurav</td>\n",
       "      <td>10000</td>\n",
       "      <td>employee</td>\n",
       "    </tr>\n",
       "    <tr>\n",
       "      <th>2</th>\n",
       "      <td>3</td>\n",
       "      <td>harry</td>\n",
       "      <td>5000</td>\n",
       "      <td>intern</td>\n",
       "    </tr>\n",
       "    <tr>\n",
       "      <th>3</th>\n",
       "      <td>4</td>\n",
       "      <td>ron</td>\n",
       "      <td>15000</td>\n",
       "      <td>senior_employee</td>\n",
       "    </tr>\n",
       "  </tbody>\n",
       "</table>\n",
       "</div>"
      ],
      "text/plain": [
       "   eid   ename  stipend         position\n",
       "0    1     sid    10000         employee\n",
       "1    2  saurav    10000         employee\n",
       "2    3   harry     5000           intern\n",
       "3    4     ron    15000  senior_employee"
      ]
     },
     "execution_count": 254,
     "metadata": {},
     "output_type": "execute_result"
    }
   ],
   "source": [
    "join"
   ]
  },
  {
   "cell_type": "markdown",
   "id": "ba5ab1f2",
   "metadata": {},
   "source": [
    "# EXERCISE 19 - Getting the Non-Null Count and Data Type for Every Column\n",
    "Given a dataframe, output the non-null count and data-type for every column"
   ]
  },
  {
   "cell_type": "code",
   "execution_count": 255,
   "id": "13367a3e",
   "metadata": {},
   "outputs": [
    {
     "data": {
      "text/html": [
       "<div>\n",
       "<style scoped>\n",
       "    .dataframe tbody tr th:only-of-type {\n",
       "        vertical-align: middle;\n",
       "    }\n",
       "\n",
       "    .dataframe tbody tr th {\n",
       "        vertical-align: top;\n",
       "    }\n",
       "\n",
       "    .dataframe thead th {\n",
       "        text-align: right;\n",
       "    }\n",
       "</style>\n",
       "<table border=\"1\" class=\"dataframe\">\n",
       "  <thead>\n",
       "    <tr style=\"text-align: right;\">\n",
       "      <th></th>\n",
       "      <th>cname</th>\n",
       "      <th>profit</th>\n",
       "    </tr>\n",
       "  </thead>\n",
       "  <tbody>\n",
       "    <tr>\n",
       "      <th>0</th>\n",
       "      <td>Shyam &amp; Co.</td>\n",
       "      <td>-10000</td>\n",
       "    </tr>\n",
       "    <tr>\n",
       "      <th>1</th>\n",
       "      <td>Ramlal &amp; Bros.</td>\n",
       "      <td>10000</td>\n",
       "    </tr>\n",
       "    <tr>\n",
       "      <th>2</th>\n",
       "      <td>Sharma Enterprises</td>\n",
       "      <td>-5000</td>\n",
       "    </tr>\n",
       "    <tr>\n",
       "      <th>3</th>\n",
       "      <td>Verma Furnitures</td>\n",
       "      <td>15000</td>\n",
       "    </tr>\n",
       "    <tr>\n",
       "      <th>4</th>\n",
       "      <td>Rahul Stores</td>\n",
       "      <td>20000</td>\n",
       "    </tr>\n",
       "  </tbody>\n",
       "</table>\n",
       "</div>"
      ],
      "text/plain": [
       "                cname  profit\n",
       "0         Shyam & Co.  -10000\n",
       "1      Ramlal & Bros.   10000\n",
       "2  Sharma Enterprises   -5000\n",
       "3    Verma Furnitures   15000\n",
       "4        Rahul Stores   20000"
      ]
     },
     "execution_count": 255,
     "metadata": {},
     "output_type": "execute_result"
    }
   ],
   "source": [
    "df"
   ]
  },
  {
   "cell_type": "code",
   "execution_count": 259,
   "id": "3dd89319",
   "metadata": {},
   "outputs": [
    {
     "name": "stdout",
     "output_type": "stream",
     "text": [
      "<class 'pandas.core.frame.DataFrame'>\n",
      "RangeIndex: 5 entries, 0 to 4\n",
      "Data columns (total 2 columns):\n",
      " #   Column  Non-Null Count  Dtype \n",
      "---  ------  --------------  ----- \n",
      " 0   cname   5 non-null      object\n",
      " 1   profit  5 non-null      int64 \n",
      "dtypes: int64(1), object(1)\n",
      "memory usage: 208.0+ bytes\n"
     ]
    }
   ],
   "source": [
    "\n",
    "df.info()"
   ]
  },
  {
   "cell_type": "code",
   "execution_count": 260,
   "id": "8e3a3a97",
   "metadata": {},
   "outputs": [
    {
     "data": {
      "text/html": [
       "<div>\n",
       "<style scoped>\n",
       "    .dataframe tbody tr th:only-of-type {\n",
       "        vertical-align: middle;\n",
       "    }\n",
       "\n",
       "    .dataframe tbody tr th {\n",
       "        vertical-align: top;\n",
       "    }\n",
       "\n",
       "    .dataframe thead th {\n",
       "        text-align: right;\n",
       "    }\n",
       "</style>\n",
       "<table border=\"1\" class=\"dataframe\">\n",
       "  <thead>\n",
       "    <tr style=\"text-align: right;\">\n",
       "      <th></th>\n",
       "      <th>cname</th>\n",
       "      <th>profit</th>\n",
       "    </tr>\n",
       "  </thead>\n",
       "  <tbody>\n",
       "    <tr>\n",
       "      <th>0</th>\n",
       "      <td>True</td>\n",
       "      <td>True</td>\n",
       "    </tr>\n",
       "    <tr>\n",
       "      <th>1</th>\n",
       "      <td>True</td>\n",
       "      <td>True</td>\n",
       "    </tr>\n",
       "    <tr>\n",
       "      <th>2</th>\n",
       "      <td>True</td>\n",
       "      <td>True</td>\n",
       "    </tr>\n",
       "    <tr>\n",
       "      <th>3</th>\n",
       "      <td>True</td>\n",
       "      <td>True</td>\n",
       "    </tr>\n",
       "    <tr>\n",
       "      <th>4</th>\n",
       "      <td>True</td>\n",
       "      <td>True</td>\n",
       "    </tr>\n",
       "  </tbody>\n",
       "</table>\n",
       "</div>"
      ],
      "text/plain": [
       "   cname  profit\n",
       "0   True    True\n",
       "1   True    True\n",
       "2   True    True\n",
       "3   True    True\n",
       "4   True    True"
      ]
     },
     "execution_count": 260,
     "metadata": {},
     "output_type": "execute_result"
    }
   ],
   "source": [
    "df.notnull()"
   ]
  },
  {
   "cell_type": "markdown",
   "id": "ad58cfe9",
   "metadata": {},
   "source": [
    "# EXERCISE 20 - Getting the Statistical Summary of all the Numerical Features of a DataFrame\n",
    "Given a dataframe, generate the statistical summary of all the numerical features present in it"
   ]
  },
  {
   "cell_type": "code",
   "execution_count": 262,
   "id": "8688a009",
   "metadata": {},
   "outputs": [
    {
     "data": {
      "text/html": [
       "<div>\n",
       "<style scoped>\n",
       "    .dataframe tbody tr th:only-of-type {\n",
       "        vertical-align: middle;\n",
       "    }\n",
       "\n",
       "    .dataframe tbody tr th {\n",
       "        vertical-align: top;\n",
       "    }\n",
       "\n",
       "    .dataframe thead th {\n",
       "        text-align: right;\n",
       "    }\n",
       "</style>\n",
       "<table border=\"1\" class=\"dataframe\">\n",
       "  <thead>\n",
       "    <tr style=\"text-align: right;\">\n",
       "      <th></th>\n",
       "      <th>profit</th>\n",
       "    </tr>\n",
       "  </thead>\n",
       "  <tbody>\n",
       "    <tr>\n",
       "      <th>count</th>\n",
       "      <td>5.000000</td>\n",
       "    </tr>\n",
       "    <tr>\n",
       "      <th>mean</th>\n",
       "      <td>6000.000000</td>\n",
       "    </tr>\n",
       "    <tr>\n",
       "      <th>std</th>\n",
       "      <td>12942.179106</td>\n",
       "    </tr>\n",
       "    <tr>\n",
       "      <th>min</th>\n",
       "      <td>-10000.000000</td>\n",
       "    </tr>\n",
       "    <tr>\n",
       "      <th>25%</th>\n",
       "      <td>-5000.000000</td>\n",
       "    </tr>\n",
       "    <tr>\n",
       "      <th>50%</th>\n",
       "      <td>10000.000000</td>\n",
       "    </tr>\n",
       "    <tr>\n",
       "      <th>75%</th>\n",
       "      <td>15000.000000</td>\n",
       "    </tr>\n",
       "    <tr>\n",
       "      <th>max</th>\n",
       "      <td>20000.000000</td>\n",
       "    </tr>\n",
       "  </tbody>\n",
       "</table>\n",
       "</div>"
      ],
      "text/plain": [
       "             profit\n",
       "count      5.000000\n",
       "mean    6000.000000\n",
       "std    12942.179106\n",
       "min   -10000.000000\n",
       "25%    -5000.000000\n",
       "50%    10000.000000\n",
       "75%    15000.000000\n",
       "max    20000.000000"
      ]
     },
     "execution_count": 262,
     "metadata": {},
     "output_type": "execute_result"
    }
   ],
   "source": [
    "df\n",
    "df.describe()"
   ]
  },
  {
   "cell_type": "code",
   "execution_count": null,
   "id": "6c9ad425",
   "metadata": {},
   "outputs": [],
   "source": [
    "#Student of DataScience\n",
    "#Student of DataTrained-Saurav\n",
    "#Date-27-07-2022\n",
    "#Time-17:27\n"
   ]
  },
  {
   "cell_type": "code",
   "execution_count": null,
   "id": "a76fc544",
   "metadata": {},
   "outputs": [],
   "source": []
  }
 ],
 "metadata": {
  "kernelspec": {
   "display_name": "Python 3 (ipykernel)",
   "language": "python",
   "name": "python3"
  },
  "language_info": {
   "codemirror_mode": {
    "name": "ipython",
    "version": 3
   },
   "file_extension": ".py",
   "mimetype": "text/x-python",
   "name": "python",
   "nbconvert_exporter": "python",
   "pygments_lexer": "ipython3",
   "version": "3.9.12"
  }
 },
 "nbformat": 4,
 "nbformat_minor": 5
}
